{
  "cells": [
    {
      "cell_type": "markdown",
      "metadata": {
        "id": "view-in-github"
      },
      "source": [
        "<a href=\"https://colab.research.google.com/github/interritus141/COMP0031-Group-Research-Project/blob/master/COMP0031.ipynb\" target=\"_parent\"><img src=\"https://colab.research.google.com/assets/colab-badge.svg\" alt=\"Open In Colab\"/></a>"
      ]
    },
    {
      "cell_type": "markdown",
      "metadata": {
        "id": "CG8CzgGL34mi"
      },
      "source": [
        "# Installation"
      ]
    },
    {
      "cell_type": "code",
      "execution_count": null,
      "metadata": {
        "id": "Cfw6BEA034mj",
        "colab": {
          "base_uri": "https://localhost:8080/"
        },
        "outputId": "4869e67e-5de3-4f26-cbc9-2279c3300a4a"
      },
      "outputs": [
        {
          "output_type": "stream",
          "name": "stdout",
          "text": [
            "Looking in indexes: https://pypi.org/simple, https://us-python.pkg.dev/colab-wheels/public/simple/\n",
            "Requirement already satisfied: gym in /usr/local/lib/python3.9/dist-packages (0.25.2)\n",
            "Requirement already satisfied: numpy>=1.18.0 in /usr/local/lib/python3.9/dist-packages (from gym) (1.22.4)\n",
            "Requirement already satisfied: gym-notices>=0.0.4 in /usr/local/lib/python3.9/dist-packages (from gym) (0.0.8)\n",
            "Requirement already satisfied: cloudpickle>=1.2.0 in /usr/local/lib/python3.9/dist-packages (from gym) (2.2.1)\n",
            "Requirement already satisfied: importlib-metadata>=4.8.0 in /usr/local/lib/python3.9/dist-packages (from gym) (6.0.0)\n",
            "Requirement already satisfied: zipp>=0.5 in /usr/local/lib/python3.9/dist-packages (from importlib-metadata>=4.8.0->gym) (3.15.0)\n",
            "Looking in indexes: https://pypi.org/simple, https://us-python.pkg.dev/colab-wheels/public/simple/\n",
            "Collecting stable_baselines3\n",
            "  Downloading stable_baselines3-1.7.0-py3-none-any.whl (171 kB)\n",
            "\u001b[2K     \u001b[90m━━━━━━━━━━━━━━━━━━━━━━━━━━━━━━━━━━━━━━━\u001b[0m \u001b[32m171.8/171.8 KB\u001b[0m \u001b[31m8.6 MB/s\u001b[0m eta \u001b[36m0:00:00\u001b[0m\n",
            "\u001b[?25hRequirement already satisfied: matplotlib in /usr/local/lib/python3.9/dist-packages (from stable_baselines3) (3.5.3)\n",
            "Requirement already satisfied: cloudpickle in /usr/local/lib/python3.9/dist-packages (from stable_baselines3) (2.2.1)\n",
            "Requirement already satisfied: pandas in /usr/local/lib/python3.9/dist-packages (from stable_baselines3) (1.4.4)\n",
            "Collecting gym==0.21\n",
            "  Downloading gym-0.21.0.tar.gz (1.5 MB)\n",
            "\u001b[2K     \u001b[90m━━━━━━━━━━━━━━━━━━━━━━━━━━━━━━━━━━━━━━━━\u001b[0m \u001b[32m1.5/1.5 MB\u001b[0m \u001b[31m29.7 MB/s\u001b[0m eta \u001b[36m0:00:00\u001b[0m\n",
            "\u001b[?25h  Preparing metadata (setup.py) ... \u001b[?25l\u001b[?25hdone\n",
            "Requirement already satisfied: numpy in /usr/local/lib/python3.9/dist-packages (from stable_baselines3) (1.22.4)\n",
            "Collecting importlib-metadata~=4.13\n",
            "  Downloading importlib_metadata-4.13.0-py3-none-any.whl (23 kB)\n",
            "Requirement already satisfied: torch>=1.11 in /usr/local/lib/python3.9/dist-packages (from stable_baselines3) (1.13.1+cu116)\n",
            "Requirement already satisfied: zipp>=0.5 in /usr/local/lib/python3.9/dist-packages (from importlib-metadata~=4.13->stable_baselines3) (3.15.0)\n",
            "Requirement already satisfied: typing-extensions in /usr/local/lib/python3.9/dist-packages (from torch>=1.11->stable_baselines3) (4.5.0)\n",
            "Requirement already satisfied: pyparsing>=2.2.1 in /usr/local/lib/python3.9/dist-packages (from matplotlib->stable_baselines3) (3.0.9)\n",
            "Requirement already satisfied: python-dateutil>=2.7 in /usr/local/lib/python3.9/dist-packages (from matplotlib->stable_baselines3) (2.8.2)\n",
            "Requirement already satisfied: packaging>=20.0 in /usr/local/lib/python3.9/dist-packages (from matplotlib->stable_baselines3) (23.0)\n",
            "Requirement already satisfied: pillow>=6.2.0 in /usr/local/lib/python3.9/dist-packages (from matplotlib->stable_baselines3) (8.4.0)\n",
            "Requirement already satisfied: cycler>=0.10 in /usr/local/lib/python3.9/dist-packages (from matplotlib->stable_baselines3) (0.11.0)\n",
            "Requirement already satisfied: fonttools>=4.22.0 in /usr/local/lib/python3.9/dist-packages (from matplotlib->stable_baselines3) (4.39.0)\n",
            "Requirement already satisfied: kiwisolver>=1.0.1 in /usr/local/lib/python3.9/dist-packages (from matplotlib->stable_baselines3) (1.4.4)\n",
            "Requirement already satisfied: pytz>=2020.1 in /usr/local/lib/python3.9/dist-packages (from pandas->stable_baselines3) (2022.7.1)\n",
            "Requirement already satisfied: six>=1.5 in /usr/local/lib/python3.9/dist-packages (from python-dateutil>=2.7->matplotlib->stable_baselines3) (1.15.0)\n",
            "Building wheels for collected packages: gym\n",
            "  Building wheel for gym (setup.py) ... \u001b[?25l\u001b[?25hdone\n",
            "  Created wheel for gym: filename=gym-0.21.0-py3-none-any.whl size=1616820 sha256=8d78c382baf1bbb97f3aafc4b4589f3516af23fb033ee741633e3e4e847f8b3e\n",
            "  Stored in directory: /root/.cache/pip/wheels/b3/50/6c/0a82c1358b4da2dbd9c1bb17e0f89467db32812ab236dbf6d5\n",
            "Successfully built gym\n",
            "Installing collected packages: importlib-metadata, gym, stable_baselines3\n",
            "  Attempting uninstall: importlib-metadata\n",
            "    Found existing installation: importlib-metadata 6.0.0\n",
            "    Uninstalling importlib-metadata-6.0.0:\n",
            "      Successfully uninstalled importlib-metadata-6.0.0\n",
            "  Attempting uninstall: gym\n",
            "    Found existing installation: gym 0.25.2\n",
            "    Uninstalling gym-0.25.2:\n",
            "      Successfully uninstalled gym-0.25.2\n",
            "Successfully installed gym-0.21.0 importlib-metadata-4.13.0 stable_baselines3-1.7.0\n",
            "Looking in indexes: https://pypi.org/simple, https://us-python.pkg.dev/colab-wheels/public/simple/\n",
            "Collecting ta\n",
            "  Downloading ta-0.10.2.tar.gz (25 kB)\n",
            "  Preparing metadata (setup.py) ... \u001b[?25l\u001b[?25hdone\n",
            "Requirement already satisfied: numpy in /usr/local/lib/python3.9/dist-packages (from ta) (1.22.4)\n",
            "Requirement already satisfied: pandas in /usr/local/lib/python3.9/dist-packages (from ta) (1.4.4)\n",
            "Requirement already satisfied: python-dateutil>=2.8.1 in /usr/local/lib/python3.9/dist-packages (from pandas->ta) (2.8.2)\n",
            "Requirement already satisfied: pytz>=2020.1 in /usr/local/lib/python3.9/dist-packages (from pandas->ta) (2022.7.1)\n",
            "Requirement already satisfied: six>=1.5 in /usr/local/lib/python3.9/dist-packages (from python-dateutil>=2.8.1->pandas->ta) (1.15.0)\n",
            "Building wheels for collected packages: ta\n",
            "  Building wheel for ta (setup.py) ... \u001b[?25l\u001b[?25hdone\n",
            "  Created wheel for ta: filename=ta-0.10.2-py3-none-any.whl size=29104 sha256=ab6ba99552b814caa8ddcf7beac1e467d71e846c05bdf686eec238502045d04c\n",
            "  Stored in directory: /root/.cache/pip/wheels/6a/76/03/7f785aaa50b9c6ec7e3fd105a62c1b2c45a034512d51e024a9\n",
            "Successfully built ta\n",
            "Installing collected packages: ta\n",
            "Successfully installed ta-0.10.2\n",
            "Looking in indexes: https://pypi.org/simple, https://us-python.pkg.dev/colab-wheels/public/simple/\n",
            "Collecting yfinance\n",
            "  Downloading yfinance-0.2.12-py2.py3-none-any.whl (59 kB)\n",
            "\u001b[2K     \u001b[90m━━━━━━━━━━━━━━━━━━━━━━━━━━━━━━━━━━━━━━━━\u001b[0m \u001b[32m59.2/59.2 KB\u001b[0m \u001b[31m6.3 MB/s\u001b[0m eta \u001b[36m0:00:00\u001b[0m\n",
            "\u001b[?25hRequirement already satisfied: pytz>=2022.5 in /usr/local/lib/python3.9/dist-packages (from yfinance) (2022.7.1)\n",
            "Collecting cryptography>=3.3.2\n",
            "  Downloading cryptography-39.0.2-cp36-abi3-manylinux_2_28_x86_64.whl (4.2 MB)\n",
            "\u001b[2K     \u001b[90m━━━━━━━━━━━━━━━━━━━━━━━━━━━━━━━━━━━━━━━━\u001b[0m \u001b[32m4.2/4.2 MB\u001b[0m \u001b[31m39.6 MB/s\u001b[0m eta \u001b[36m0:00:00\u001b[0m\n",
            "\u001b[?25hCollecting frozendict>=2.3.4\n",
            "  Downloading frozendict-2.3.5-cp39-cp39-manylinux_2_17_x86_64.manylinux2014_x86_64.whl (112 kB)\n",
            "\u001b[2K     \u001b[90m━━━━━━━━━━━━━━━━━━━━━━━━━━━━━━━━━━━━━━━\u001b[0m \u001b[32m112.8/112.8 KB\u001b[0m \u001b[31m7.8 MB/s\u001b[0m eta \u001b[36m0:00:00\u001b[0m\n",
            "\u001b[?25hCollecting html5lib>=1.1\n",
            "  Downloading html5lib-1.1-py2.py3-none-any.whl (112 kB)\n",
            "\u001b[2K     \u001b[90m━━━━━━━━━━━━━━━━━━━━━━━━━━━━━━━━━━━━━━\u001b[0m \u001b[32m112.2/112.2 KB\u001b[0m \u001b[31m13.7 MB/s\u001b[0m eta \u001b[36m0:00:00\u001b[0m\n",
            "\u001b[?25hRequirement already satisfied: pandas>=1.3.0 in /usr/local/lib/python3.9/dist-packages (from yfinance) (1.4.4)\n",
            "Collecting beautifulsoup4>=4.11.1\n",
            "  Downloading beautifulsoup4-4.11.2-py3-none-any.whl (129 kB)\n",
            "\u001b[2K     \u001b[90m━━━━━━━━━━━━━━━━━━━━━━━━━━━━━━━━━━━━━━\u001b[0m \u001b[32m129.4/129.4 KB\u001b[0m \u001b[31m15.1 MB/s\u001b[0m eta \u001b[36m0:00:00\u001b[0m\n",
            "\u001b[?25hRequirement already satisfied: lxml>=4.9.1 in /usr/local/lib/python3.9/dist-packages (from yfinance) (4.9.2)\n",
            "Collecting appdirs>=1.4.4\n",
            "  Downloading appdirs-1.4.4-py2.py3-none-any.whl (9.6 kB)\n",
            "Requirement already satisfied: numpy>=1.16.5 in /usr/local/lib/python3.9/dist-packages (from yfinance) (1.22.4)\n",
            "Requirement already satisfied: multitasking>=0.0.7 in /usr/local/lib/python3.9/dist-packages (from yfinance) (0.0.11)\n",
            "Collecting requests>=2.26\n",
            "  Downloading requests-2.28.2-py3-none-any.whl (62 kB)\n",
            "\u001b[2K     \u001b[90m━━━━━━━━━━━━━━━━━━━━━━━━━━━━━━━━━━━━━━━━\u001b[0m \u001b[32m62.8/62.8 KB\u001b[0m \u001b[31m7.3 MB/s\u001b[0m eta \u001b[36m0:00:00\u001b[0m\n",
            "\u001b[?25hRequirement already satisfied: soupsieve>1.2 in /usr/local/lib/python3.9/dist-packages (from beautifulsoup4>=4.11.1->yfinance) (2.4)\n",
            "Requirement already satisfied: cffi>=1.12 in /usr/local/lib/python3.9/dist-packages (from cryptography>=3.3.2->yfinance) (1.15.1)\n",
            "Requirement already satisfied: webencodings in /usr/local/lib/python3.9/dist-packages (from html5lib>=1.1->yfinance) (0.5.1)\n",
            "Requirement already satisfied: six>=1.9 in /usr/local/lib/python3.9/dist-packages (from html5lib>=1.1->yfinance) (1.15.0)\n",
            "Requirement already satisfied: python-dateutil>=2.8.1 in /usr/local/lib/python3.9/dist-packages (from pandas>=1.3.0->yfinance) (2.8.2)\n",
            "Requirement already satisfied: urllib3<1.27,>=1.21.1 in /usr/local/lib/python3.9/dist-packages (from requests>=2.26->yfinance) (1.26.15)\n",
            "Requirement already satisfied: idna<4,>=2.5 in /usr/local/lib/python3.9/dist-packages (from requests>=2.26->yfinance) (2.10)\n",
            "Collecting charset-normalizer<4,>=2\n",
            "  Downloading charset_normalizer-3.1.0-cp39-cp39-manylinux_2_17_x86_64.manylinux2014_x86_64.whl (199 kB)\n",
            "\u001b[2K     \u001b[90m━━━━━━━━━━━━━━━━━━━━━━━━━━━━━━━━━━━━━━\u001b[0m \u001b[32m199.2/199.2 KB\u001b[0m \u001b[31m19.9 MB/s\u001b[0m eta \u001b[36m0:00:00\u001b[0m\n",
            "\u001b[?25hRequirement already satisfied: certifi>=2017.4.17 in /usr/local/lib/python3.9/dist-packages (from requests>=2.26->yfinance) (2022.12.7)\n",
            "Requirement already satisfied: pycparser in /usr/local/lib/python3.9/dist-packages (from cffi>=1.12->cryptography>=3.3.2->yfinance) (2.21)\n",
            "Installing collected packages: appdirs, html5lib, frozendict, charset-normalizer, beautifulsoup4, requests, cryptography, yfinance\n",
            "  Attempting uninstall: html5lib\n",
            "    Found existing installation: html5lib 1.0.1\n",
            "    Uninstalling html5lib-1.0.1:\n",
            "      Successfully uninstalled html5lib-1.0.1\n",
            "  Attempting uninstall: beautifulsoup4\n",
            "    Found existing installation: beautifulsoup4 4.9.3\n",
            "    Uninstalling beautifulsoup4-4.9.3:\n",
            "      Successfully uninstalled beautifulsoup4-4.9.3\n",
            "  Attempting uninstall: requests\n",
            "    Found existing installation: requests 2.25.1\n",
            "    Uninstalling requests-2.25.1:\n",
            "      Successfully uninstalled requests-2.25.1\n",
            "Successfully installed appdirs-1.4.4 beautifulsoup4-4.11.2 charset-normalizer-3.1.0 cryptography-39.0.2 frozendict-2.3.5 html5lib-1.1 requests-2.28.2 yfinance-0.2.12\n"
          ]
        }
      ],
      "source": [
        "# ! pip install gym\n",
        "# ! pip install stable_baselines3\n",
        "# ! pip install ta\n",
        "# ! pip install yfinance"
      ]
    },
    {
      "cell_type": "markdown",
      "metadata": {
        "id": "ruZOtW7WfjEi"
      },
      "source": [
        "# Imports"
      ]
    },
    {
      "cell_type": "code",
      "execution_count": null,
      "metadata": {
        "id": "XbrhDC6YfjuP"
      },
      "outputs": [],
      "source": [
        "import gym\n",
        "from stable_baselines3 import A2C, DDPG, DQN, PPO\n",
        "from ta import add_all_ta_features\n",
        "import yfinance as yf\n",
        "import matplotlib.pyplot as plt\n",
        "import pandas as pd\n",
        "import numpy as np\n",
        "import torch\n",
        "\n",
        "import functools\n",
        "import os\n",
        "import csv\n",
        "import json\n",
        "from math import prod"
      ]
    },
    {
      "cell_type": "markdown",
      "metadata": {
        "id": "xehWnLff34ml"
      },
      "source": [
        "# Helpers"
      ]
    },
    {
      "cell_type": "markdown",
      "metadata": {
        "id": "NdcDd-Iqd_-Z"
      },
      "source": [
        "## Tech Indicators"
      ]
    },
    {
      "cell_type": "code",
      "execution_count": null,
      "metadata": {
        "id": "lbA-Y5Y3grjA"
      },
      "outputs": [],
      "source": [
        "def add_ta(df):\n",
        "  ta_df = add_all_ta_features(df, open=\"Open\", high=\"High\", low=\"Low\", close=\"Close\", volume=\"Volume\")\n",
        "  # print(ta_df.columns)\n",
        "  ta_df = ta_df[[\"Open\", \"High\", \"Low\", \"Close\", \"Volume\", \"Adj Close\", \"volume_obv\",\n",
        "                                \"volume_adi\", \"trend_adx\", \"momentum_ao\", \"trend_macd\", \"momentum_rsi\", \n",
        "                                \"momentum_stoch\"]]\n",
        "  ta_df = ta_df.fillna(ta_df.mean())\n",
        "  return ta_df"
      ]
    },
    {
      "cell_type": "markdown",
      "metadata": {
        "id": "L-MLC-8P34mm"
      },
      "source": [
        "## Stock Download"
      ]
    },
    {
      "cell_type": "code",
      "execution_count": null,
      "metadata": {
        "id": "1kHGbdG934mn"
      },
      "outputs": [],
      "source": [
        "def download_stocks(start, end):\n",
        "  all_stocks = dict.fromkeys([\"AAPL\", \"MSFT\", \"AMZN\", \"TSLA\", \"NVDA\", \"CAAS\"])\n",
        "\n",
        "  for stock in all_stocks.keys():\n",
        "    stock_df = yf.download(stock, start=start, end=end, keepna=True)\n",
        "    stock_df = stock_df.fillna(stock_df.mean())\n",
        "    stock_df = add_ta(stock_df)\n",
        "    all_stocks[stock] = stock_df\n",
        "  \n",
        "  return all_stocks"
      ]
    },
    {
      "cell_type": "markdown",
      "metadata": {
        "id": "4y3Wm1xh34mn"
      },
      "source": [
        "## Plotting"
      ]
    },
    {
      "cell_type": "code",
      "execution_count": null,
      "metadata": {
        "id": "x7RFmf4lj3Yt"
      },
      "outputs": [],
      "source": [
        "def plot_line_graph(env, x_vals, y_dict, title):\n",
        "  for agent in env.possible_agents:\n",
        "    plt.plot(x_vals, y_dict[agent], label=agent)\n",
        "  plt.title(title)\n",
        "  plt.legend()\n",
        "  plt.show()"
      ]
    },
    {
      "cell_type": "markdown",
      "metadata": {
        "id": "1qTt55ub34mo"
      },
      "source": [
        "## Metrics"
      ]
    },
    {
      "cell_type": "code",
      "execution_count": null,
      "metadata": {
        "id": "yvKuYN0B34mo"
      },
      "outputs": [],
      "source": [
        "def calculate_sharpe(portfolio_return_mem):\n",
        "  df_daily_return = pd.DataFrame(portfolio_return_mem)\n",
        "  df_daily_return.columns = ['daily_return']\n",
        "  sharpe = -1 \n",
        "  if df_daily_return['daily_return'].std() != 0:\n",
        "    sharpe = (252**0.5)*df_daily_return['daily_return'].mean() / df_daily_return['daily_return'].std()\n",
        "  return sharpe # -1 means error"
      ]
    },
    {
      "cell_type": "markdown",
      "metadata": {
        "id": "jNFf8FOA34mp"
      },
      "source": [
        "## Data Saving"
      ]
    },
    {
      "cell_type": "code",
      "execution_count": null,
      "metadata": {
        "id": "E1IxLqX134mp"
      },
      "outputs": [],
      "source": [
        "def save_to_json(filename, data_dict):\n",
        "  with open(filename, \"w\") as data_out:\n",
        "    json.dump(data_dict, data_out)"
      ]
    },
    {
      "cell_type": "markdown",
      "metadata": {
        "id": "itPimO3WZcN_"
      },
      "source": [
        "# Data"
      ]
    },
    {
      "cell_type": "markdown",
      "metadata": {
        "id": "omvIiTOh34mq"
      },
      "source": [
        "## Volatility"
      ]
    },
    {
      "cell_type": "code",
      "execution_count": null,
      "metadata": {
        "id": "4FThjF5-34mq"
      },
      "outputs": [],
      "source": [
        "def add_volatility(df, df_name):\n",
        "  df[\"Log returns\"] = np.log(df['Close'] / df['Close'].shift())\n",
        "  stock_volatilities[df_name] = df['Log returns'].std() * 252 ** .5"
      ]
    },
    {
      "cell_type": "code",
      "execution_count": null,
      "metadata": {
        "id": "o6fE4TRm34mq"
      },
      "outputs": [],
      "source": [
        "def visualise_volatility(df, df_name, volatility):\n",
        "  fig, ax = plt.subplots()\n",
        "  df['Log returns'].hist(ax=ax, bins=50, alpha=0.6, color='b')\n",
        "  ax.set_xlabel(\"Log return\")\n",
        "  ax.set_ylabel(\"Freq of log return\")\n",
        "  ax.set_title(\"{:s} volatility: {:.2f}%\".format(df_name, volatility*100))"
      ]
    },
    {
      "cell_type": "markdown",
      "metadata": {
        "id": "a3wS4iGJ34mr"
      },
      "source": [
        "## Cov"
      ]
    },
    {
      "cell_type": "code",
      "execution_count": null,
      "metadata": {
        "id": "uJtS7XLJuSs2"
      },
      "outputs": [],
      "source": [
        "def add_cov(df):\n",
        "  df = df.reset_index()\n",
        "  df = df.sort_values([\"Date\", \"tic\"],ignore_index=True)\n",
        "  df.index = df[\"Date\"].factorize()[0]\n",
        "\n",
        "  cov_list = []\n",
        "  return_list = []\n",
        "\n",
        "  # look back is one year\n",
        "  lookback = 252\n",
        "  for i in range(lookback,len(df.index.unique())):\n",
        "    data_lookback = df.iloc[i-lookback:i,:]\n",
        "    price_lookback=data_lookback.pivot_table(index='Date', columns=\"tic\", values='Close')\n",
        "    return_lookback = price_lookback.pct_change().dropna()\n",
        "    return_list.append(return_lookback)\n",
        "\n",
        "    covs = return_lookback.cov().values \n",
        "    cov_list.append(covs)\n",
        "\n",
        "\n",
        "  df_cov = pd.DataFrame({'Date':df[\"Date\"].unique()[lookback:],'cov_list':cov_list,'return_list':return_list})\n",
        "  df = df.merge(df_cov, on='Date')\n",
        "  df = df.sort_values(['Date', \"tic\"]).reset_index(drop=True)\n",
        "  return df"
      ]
    },
    {
      "cell_type": "markdown",
      "metadata": {
        "id": "1PVYw8Hn34ms"
      },
      "source": [
        "## Stocks"
      ]
    },
    {
      "cell_type": "markdown",
      "metadata": {
        "id": "s66F0uAs34ms"
      },
      "source": [
        "1. Apple Inc. (AAPL)\n",
        "2. Microsoft Corp. (MSFT)\n",
        "3. Amazon.com, Inc. ( AMZN)\n",
        "4. Tesla, Inc. (TSLA)\n",
        "5. Nvidia Corp. (NVDA)"
      ]
    },
    {
      "cell_type": "markdown",
      "metadata": {
        "id": "aAM0cl4_34ms"
      },
      "source": [
        "### Training"
      ]
    },
    {
      "cell_type": "code",
      "execution_count": null,
      "metadata": {
        "id": "12YXVBAu34ms",
        "colab": {
          "base_uri": "https://localhost:8080/"
        },
        "outputId": "f2d390a5-86e3-4f9a-f338-03dfea5e83ff"
      },
      "outputs": [
        {
          "output_type": "stream",
          "name": "stdout",
          "text": [
            "\r[*********************100%***********************]  1 of 1 completed\n"
          ]
        },
        {
          "output_type": "stream",
          "name": "stderr",
          "text": [
            "/usr/local/lib/python3.9/dist-packages/ta/trend.py:780: RuntimeWarning: invalid value encountered in double_scalars\n",
            "  dip[idx] = 100 * (self._dip[idx] / value)\n",
            "/usr/local/lib/python3.9/dist-packages/ta/trend.py:785: RuntimeWarning: invalid value encountered in double_scalars\n",
            "  din[idx] = 100 * (self._din[idx] / value)\n"
          ]
        },
        {
          "output_type": "stream",
          "name": "stdout",
          "text": [
            "\r[*********************100%***********************]  1 of 1 completed\n"
          ]
        },
        {
          "output_type": "stream",
          "name": "stderr",
          "text": [
            "/usr/local/lib/python3.9/dist-packages/ta/trend.py:780: RuntimeWarning: invalid value encountered in double_scalars\n",
            "  dip[idx] = 100 * (self._dip[idx] / value)\n",
            "/usr/local/lib/python3.9/dist-packages/ta/trend.py:785: RuntimeWarning: invalid value encountered in double_scalars\n",
            "  din[idx] = 100 * (self._din[idx] / value)\n"
          ]
        },
        {
          "output_type": "stream",
          "name": "stdout",
          "text": [
            "\r[*********************100%***********************]  1 of 1 completed\n"
          ]
        },
        {
          "output_type": "stream",
          "name": "stderr",
          "text": [
            "/usr/local/lib/python3.9/dist-packages/ta/trend.py:780: RuntimeWarning: invalid value encountered in double_scalars\n",
            "  dip[idx] = 100 * (self._dip[idx] / value)\n",
            "/usr/local/lib/python3.9/dist-packages/ta/trend.py:785: RuntimeWarning: invalid value encountered in double_scalars\n",
            "  din[idx] = 100 * (self._din[idx] / value)\n"
          ]
        },
        {
          "output_type": "stream",
          "name": "stdout",
          "text": [
            "\r[*********************100%***********************]  1 of 1 completed\n"
          ]
        },
        {
          "output_type": "stream",
          "name": "stderr",
          "text": [
            "/usr/local/lib/python3.9/dist-packages/ta/trend.py:780: RuntimeWarning: invalid value encountered in double_scalars\n",
            "  dip[idx] = 100 * (self._dip[idx] / value)\n",
            "/usr/local/lib/python3.9/dist-packages/ta/trend.py:785: RuntimeWarning: invalid value encountered in double_scalars\n",
            "  din[idx] = 100 * (self._din[idx] / value)\n"
          ]
        },
        {
          "output_type": "stream",
          "name": "stdout",
          "text": [
            "\r[*********************100%***********************]  1 of 1 completed\n"
          ]
        },
        {
          "output_type": "stream",
          "name": "stderr",
          "text": [
            "/usr/local/lib/python3.9/dist-packages/ta/trend.py:780: RuntimeWarning: invalid value encountered in double_scalars\n",
            "  dip[idx] = 100 * (self._dip[idx] / value)\n",
            "/usr/local/lib/python3.9/dist-packages/ta/trend.py:785: RuntimeWarning: invalid value encountered in double_scalars\n",
            "  din[idx] = 100 * (self._din[idx] / value)\n"
          ]
        },
        {
          "output_type": "stream",
          "name": "stdout",
          "text": [
            "\r[*********************100%***********************]  1 of 1 completed\n"
          ]
        },
        {
          "output_type": "stream",
          "name": "stderr",
          "text": [
            "/usr/local/lib/python3.9/dist-packages/ta/trend.py:780: RuntimeWarning: invalid value encountered in double_scalars\n",
            "  dip[idx] = 100 * (self._dip[idx] / value)\n",
            "/usr/local/lib/python3.9/dist-packages/ta/trend.py:785: RuntimeWarning: invalid value encountered in double_scalars\n",
            "  din[idx] = 100 * (self._din[idx] / value)\n"
          ]
        }
      ],
      "source": [
        "stocks = download_stocks(\"2018-01-01\", \"2020-12-31\")\n",
        "stock_volatilities = {\n",
        "    stock: None for stock in stocks.keys()\n",
        "}"
      ]
    },
    {
      "cell_type": "code",
      "execution_count": null,
      "metadata": {
        "id": "KyW_d8ut34mt",
        "colab": {
          "base_uri": "https://localhost:8080/"
        },
        "outputId": "9a9f6cc6-eedb-4d85-c6f6-bef319402f2f"
      },
      "outputs": [
        {
          "output_type": "stream",
          "name": "stdout",
          "text": [
            "{'AAPL': 0.35192374569931706, 'MSFT': 0.32331546592862975, 'AMZN': 0.33206909580991634, 'TSLA': 0.6813056675677474, 'NVDA': 0.5035710835450877, 'CAAS': 0.9252444418969845}\n"
          ]
        }
      ],
      "source": [
        "# volatility\n",
        "\n",
        "for stock, stock_df in stocks.items():\n",
        "  add_volatility(stock_df, stock)\n",
        "  # visualise_volatility(stock_df, stock, stock_volatilities[stock]) # use to generate graphs\n",
        "\n",
        "print(stock_volatilities)"
      ]
    },
    {
      "cell_type": "code",
      "execution_count": null,
      "metadata": {
        "id": "8OADGaYLI-bv"
      },
      "outputs": [],
      "source": [
        "# low volatility\n",
        "data_aapl_df = stocks[\"AAPL\"].copy()\n",
        "data_aapl_df[\"tic\"] = \"AAPL\"\n",
        "\n",
        "# high volatility\n",
        "data_tsla_df = stocks[\"TSLA\"].copy()\n",
        "data_tsla_df[\"tic\"] = \"TSLA\"\n",
        "\n",
        "real_mixed_df = pd.concat([data_aapl_df, data_tsla_df])\n",
        "real_mixed_df = add_cov(real_mixed_df)"
      ]
    },
    {
      "cell_type": "markdown",
      "metadata": {
        "id": "v80oKK5334mu"
      },
      "source": [
        "### Testing"
      ]
    },
    {
      "cell_type": "code",
      "execution_count": null,
      "metadata": {
        "id": "pfJV5N6Q34mu",
        "colab": {
          "base_uri": "https://localhost:8080/"
        },
        "outputId": "5591c44e-391e-4962-f5a2-c14706bbf7c7"
      },
      "outputs": [
        {
          "output_type": "stream",
          "name": "stdout",
          "text": [
            "\r[*********************100%***********************]  1 of 1 completed\n"
          ]
        },
        {
          "output_type": "stream",
          "name": "stderr",
          "text": [
            "/usr/local/lib/python3.9/dist-packages/ta/trend.py:780: RuntimeWarning: invalid value encountered in double_scalars\n",
            "  dip[idx] = 100 * (self._dip[idx] / value)\n",
            "/usr/local/lib/python3.9/dist-packages/ta/trend.py:785: RuntimeWarning: invalid value encountered in double_scalars\n",
            "  din[idx] = 100 * (self._din[idx] / value)\n"
          ]
        },
        {
          "output_type": "stream",
          "name": "stdout",
          "text": [
            "\r[*********************100%***********************]  1 of 1 completed\n"
          ]
        },
        {
          "output_type": "stream",
          "name": "stderr",
          "text": [
            "/usr/local/lib/python3.9/dist-packages/ta/trend.py:780: RuntimeWarning: invalid value encountered in double_scalars\n",
            "  dip[idx] = 100 * (self._dip[idx] / value)\n",
            "/usr/local/lib/python3.9/dist-packages/ta/trend.py:785: RuntimeWarning: invalid value encountered in double_scalars\n",
            "  din[idx] = 100 * (self._din[idx] / value)\n"
          ]
        },
        {
          "output_type": "stream",
          "name": "stdout",
          "text": [
            "\r[*********************100%***********************]  1 of 1 completed\n"
          ]
        },
        {
          "output_type": "stream",
          "name": "stderr",
          "text": [
            "/usr/local/lib/python3.9/dist-packages/ta/trend.py:780: RuntimeWarning: invalid value encountered in double_scalars\n",
            "  dip[idx] = 100 * (self._dip[idx] / value)\n",
            "/usr/local/lib/python3.9/dist-packages/ta/trend.py:785: RuntimeWarning: invalid value encountered in double_scalars\n",
            "  din[idx] = 100 * (self._din[idx] / value)\n"
          ]
        },
        {
          "output_type": "stream",
          "name": "stdout",
          "text": [
            "\r[*********************100%***********************]  1 of 1 completed\n"
          ]
        },
        {
          "output_type": "stream",
          "name": "stderr",
          "text": [
            "/usr/local/lib/python3.9/dist-packages/ta/trend.py:780: RuntimeWarning: invalid value encountered in double_scalars\n",
            "  dip[idx] = 100 * (self._dip[idx] / value)\n",
            "/usr/local/lib/python3.9/dist-packages/ta/trend.py:785: RuntimeWarning: invalid value encountered in double_scalars\n",
            "  din[idx] = 100 * (self._din[idx] / value)\n"
          ]
        },
        {
          "output_type": "stream",
          "name": "stdout",
          "text": [
            "\r[*********************100%***********************]  1 of 1 completed\n"
          ]
        },
        {
          "output_type": "stream",
          "name": "stderr",
          "text": [
            "/usr/local/lib/python3.9/dist-packages/ta/trend.py:780: RuntimeWarning: invalid value encountered in double_scalars\n",
            "  dip[idx] = 100 * (self._dip[idx] / value)\n",
            "/usr/local/lib/python3.9/dist-packages/ta/trend.py:785: RuntimeWarning: invalid value encountered in double_scalars\n",
            "  din[idx] = 100 * (self._din[idx] / value)\n"
          ]
        },
        {
          "output_type": "stream",
          "name": "stdout",
          "text": [
            "\r[*********************100%***********************]  1 of 1 completed\n"
          ]
        },
        {
          "output_type": "stream",
          "name": "stderr",
          "text": [
            "/usr/local/lib/python3.9/dist-packages/ta/trend.py:780: RuntimeWarning: invalid value encountered in double_scalars\n",
            "  dip[idx] = 100 * (self._dip[idx] / value)\n",
            "/usr/local/lib/python3.9/dist-packages/ta/trend.py:785: RuntimeWarning: invalid value encountered in double_scalars\n",
            "  din[idx] = 100 * (self._din[idx] / value)\n"
          ]
        }
      ],
      "source": [
        "test_stocks = download_stocks(\"2021-01-01\", \"2022-12-31\")\n",
        "\n",
        "test_data_aapl_df = test_stocks[\"AAPL\"].copy()\n",
        "test_data_aapl_df[\"tic\"] = \"AAPL\"\n",
        "\n",
        "test_data_tsla_df = test_stocks[\"TSLA\"].copy()\n",
        "test_data_tsla_df[\"tic\"] = \"TSLA\"\n",
        "\n",
        "test_real_mixed_df = pd.concat([test_data_aapl_df, test_data_tsla_df])\n",
        "test_real_mixed_df = add_cov(test_real_mixed_df)"
      ]
    },
    {
      "cell_type": "markdown",
      "metadata": {
        "id": "vLl-GIGH34mv"
      },
      "source": [
        "### Market Trend"
      ]
    },
    {
      "cell_type": "code",
      "execution_count": null,
      "metadata": {
        "id": "ZZgvsCbD34mv",
        "colab": {
          "base_uri": "https://localhost:8080/",
          "height": 281
        },
        "outputId": "eded0b60-026d-4b93-932f-ac809d9989f2"
      },
      "outputs": [
        {
          "output_type": "display_data",
          "data": {
            "text/plain": [
              "<Figure size 432x288 with 1 Axes>"
            ],
            "image/png": "[encoded data removed]"
          },
          "metadata": {
            "needs_background": "light"
          }
        }
      ],
      "source": [
        "plt.plot(stocks[\"AAPL\"][\"Close\"].index, stocks[\"AAPL\"][\"Close\"], label=\"AAPL\", c=\"blue\")\n",
        "plt.plot(stocks[\"TSLA\"][\"Close\"].index, stocks[\"TSLA\"][\"Close\"], label=\"TSLA\", c=\"orange\")\n",
        "plt.legend()\n",
        "plt.plot(test_stocks[\"AAPL\"][\"Close\"].index, test_stocks[\"AAPL\"][\"Close\"], label=\"AAPL\", c=\"blue\")\n",
        "plt.plot(test_stocks[\"TSLA\"][\"Close\"].index, test_stocks[\"TSLA\"][\"Close\"], label=\"TSLA\", c=\"orange\")\n",
        "plt.axvline(x=test_stocks[\"TSLA\"][\"Close\"].index[0], c=\"red\", ls=\"--\")\n",
        "plt.title(\"Real Dataset Daily Closing Value\")\n",
        "plt.show()"
      ]
    },
    {
      "cell_type": "markdown",
      "source": [
        "## Mock Data"
      ],
      "metadata": {
        "id": "y6_ayreLk4wb"
      }
    },
    {
      "cell_type": "markdown",
      "source": [
        "### Load"
      ],
      "metadata": {
        "id": "I7MGs1I2lAkJ"
      }
    },
    {
      "cell_type": "code",
      "source": [
        "def load_mock_csv(filepath, label):\n",
        "  df = pd.read_csv(filepath)\n",
        "  date_buffer = df[\"Date\"]\n",
        "  df[\"Volume\"] = 5000\n",
        "  df[\"Adj Close\"] = df[\"Close\"]\n",
        "  \n",
        "  df = add_ta(df)\n",
        "  df[\"Date\"] = date_buffer\n",
        "  df[\"tic\"] = label\n",
        "\n",
        "  df = df.set_index(df[\"Date\"])\n",
        "  train_df = df[:\"2020-12-31\"]\n",
        "  train_df = train_df.reset_index(drop=True)\n",
        "\n",
        "  test_df = df[\"2021-01-01\":]\n",
        "  test_df = test_df.reset_index(drop=True)\n",
        "  return train_df, test_df"
      ],
      "metadata": {
        "id": "84YugWO0qczu"
      },
      "execution_count": null,
      "outputs": []
    },
    {
      "cell_type": "code",
      "source": [
        "sin_up_df, test_sin_up_df = load_mock_csv(\"sin_wave_going_up.csv\", \"SUP\")\n",
        "sin_up_com_df, test_sin_up_com_df = load_mock_csv(\"sin_wave_going_up_complement.csv\", \"SUPC\")"
      ],
      "metadata": {
        "colab": {
          "base_uri": "https://localhost:8080/"
        },
        "id": "tfbXucH2lBo5",
        "outputId": "7a5c885d-760b-44a5-9701-3a23f4e89841"
      },
      "execution_count": null,
      "outputs": [
        {
          "output_type": "stream",
          "name": "stderr",
          "text": [
            "/usr/local/lib/python3.9/dist-packages/ta/trend.py:780: RuntimeWarning: invalid value encountered in double_scalars\n",
            "  dip[idx] = 100 * (self._dip[idx] / value)\n",
            "/usr/local/lib/python3.9/dist-packages/ta/trend.py:785: RuntimeWarning: invalid value encountered in double_scalars\n",
            "  din[idx] = 100 * (self._din[idx] / value)\n",
            "/usr/local/lib/python3.9/dist-packages/ta/trend.py:780: RuntimeWarning: invalid value encountered in double_scalars\n",
            "  dip[idx] = 100 * (self._dip[idx] / value)\n",
            "/usr/local/lib/python3.9/dist-packages/ta/trend.py:785: RuntimeWarning: invalid value encountered in double_scalars\n",
            "  din[idx] = 100 * (self._din[idx] / value)\n",
            "/usr/local/lib/python3.9/dist-packages/ta/trend.py:780: RuntimeWarning: invalid value encountered in double_scalars\n",
            "  dip[idx] = 100 * (self._dip[idx] / value)\n",
            "/usr/local/lib/python3.9/dist-packages/ta/trend.py:785: RuntimeWarning: invalid value encountered in double_scalars\n",
            "  din[idx] = 100 * (self._din[idx] / value)\n",
            "/usr/local/lib/python3.9/dist-packages/ta/trend.py:780: RuntimeWarning: invalid value encountered in double_scalars\n",
            "  dip[idx] = 100 * (self._dip[idx] / value)\n",
            "/usr/local/lib/python3.9/dist-packages/ta/trend.py:785: RuntimeWarning: invalid value encountered in double_scalars\n",
            "  din[idx] = 100 * (self._din[idx] / value)\n",
            "/usr/local/lib/python3.9/dist-packages/ta/trend.py:780: RuntimeWarning: invalid value encountered in double_scalars\n",
            "  dip[idx] = 100 * (self._dip[idx] / value)\n",
            "/usr/local/lib/python3.9/dist-packages/ta/trend.py:785: RuntimeWarning: invalid value encountered in double_scalars\n",
            "  din[idx] = 100 * (self._din[idx] / value)\n",
            "/usr/local/lib/python3.9/dist-packages/ta/trend.py:780: RuntimeWarning: invalid value encountered in double_scalars\n",
            "  dip[idx] = 100 * (self._dip[idx] / value)\n",
            "/usr/local/lib/python3.9/dist-packages/ta/trend.py:785: RuntimeWarning: invalid value encountered in double_scalars\n",
            "  din[idx] = 100 * (self._din[idx] / value)\n"
          ]
        }
      ]
    },
    {
      "cell_type": "markdown",
      "source": [
        "### Training"
      ],
      "metadata": {
        "id": "FHZov7n6k885"
      }
    },
    {
      "cell_type": "code",
      "source": [
        "data_sin_up_df = sin_up_df.copy()\n",
        "data_sin_up_com_df = sin_up_com_df.copy()"
      ],
      "metadata": {
        "id": "WB_FrG43njz2"
      },
      "execution_count": null,
      "outputs": []
    },
    {
      "cell_type": "code",
      "source": [
        "mock_mixed_df = pd.concat([sin_up_df, sin_up_com_df])\n",
        "mock_mixed_df = add_cov(mock_mixed_df)"
      ],
      "metadata": {
        "id": "vrdZGKOAmSs9"
      },
      "execution_count": null,
      "outputs": []
    },
    {
      "cell_type": "markdown",
      "source": [
        "### Testing"
      ],
      "metadata": {
        "id": "z5PMBdXoE8_R"
      }
    },
    {
      "cell_type": "code",
      "source": [
        "test_data_sin_up_df = test_sin_up_df.copy()\n",
        "test_data_sin_up_com_df = test_sin_up_com_df.copy()"
      ],
      "metadata": {
        "id": "guv2VF1uE-NY"
      },
      "execution_count": null,
      "outputs": []
    },
    {
      "cell_type": "code",
      "source": [
        "mock_test_mixed_df = pd.concat([test_data_sin_up_df, test_data_sin_up_com_df])\n",
        "mock_test_mixed_df = add_cov(mock_test_mixed_df)"
      ],
      "metadata": {
        "id": "SQB3osr_FJhG"
      },
      "execution_count": null,
      "outputs": []
    },
    {
      "cell_type": "markdown",
      "source": [
        "### Trend"
      ],
      "metadata": {
        "id": "ZwfEEBiF4PDl"
      }
    },
    {
      "cell_type": "code",
      "source": [
        "plt.plot(sin_up_df[\"Date\"], sin_up_df[\"Close\"], label=\"SUP\", c=\"blue\")\n",
        "plt.plot(sin_up_com_df[\"Date\"], sin_up_com_df[\"Close\"], label=\"SUPC\", c=\"orange\")\n",
        "plt.legend()\n",
        "plt.plot(test_sin_up_df[\"Date\"], test_sin_up_df[\"Close\"], label=\"SUP\", c=\"blue\")\n",
        "plt.plot(test_sin_up_com_df[\"Date\"], test_sin_up_com_df[\"Close\"], label=\"SUPC\", c=\"orange\")\n",
        "plt.axvline(x=test_sin_up_com_df[\"Date\"][0], c=\"red\", ls=\"--\")\n",
        "plt.title(\"Mock Dataset Daily Closing Value\")\n",
        "plt.show()"
      ],
      "metadata": {
        "colab": {
          "base_uri": "https://localhost:8080/",
          "height": 281
        },
        "id": "wTzxWVRe7_aA",
        "outputId": "390c0648-4cf2-4a0a-a4e8-e35ac1c5c407"
      },
      "execution_count": null,
      "outputs": [
        {
          "output_type": "display_data",
          "data": {
            "text/plain": [
              "<Figure size 432x288 with 1 Axes>"
            ],
            "image/png": "[encoded data removed]"
          },
          "metadata": {
            "needs_background": "light"
          }
        }
      ]
    },
    {
      "cell_type": "markdown",
      "metadata": {
        "id": "mVYjY6QFj2Uy"
      },
      "source": [
        "# Environment"
      ]
    },
    {
      "cell_type": "markdown",
      "metadata": {
        "id": "8xU4TKJv34mw"
      },
      "source": [
        "## Agent"
      ]
    },
    {
      "cell_type": "markdown",
      "source": [
        "### Random Action "
      ],
      "metadata": {
        "id": "Jjt8VobxCs4B"
      }
    },
    {
      "cell_type": "code",
      "source": [
        "class RandomAgent:\n",
        "  def __init__(self, pol, env, n_steps=1, stock_dim=1):\n",
        "    self.stock_dim = stock_dim\n",
        "  \n",
        "  def learn(self, total_timesteps=1):\n",
        "    # no learning, random agent doesn't learn\n",
        "    return self\n",
        "\n",
        "  def predict(self, state):\n",
        "    action = np.random.dirichlet(np.ones(self.stock_dim), 1)\n",
        "    return action[0], {}\n",
        "\n",
        "  def save(self, filename):\n",
        "    # no saving, random agent doesn't learn\n",
        "    pass\n",
        "\n",
        "  def set_parameters(self, filename):\n",
        "    # no saving, random agent doesn't learn\n",
        "    pass"
      ],
      "metadata": {
        "id": "vr8vG1cMCsbZ"
      },
      "execution_count": null,
      "outputs": []
    },
    {
      "cell_type": "markdown",
      "source": [
        "### Configurations"
      ],
      "metadata": {
        "id": "Ow9cdaB4Obmt"
      }
    },
    {
      "cell_type": "code",
      "execution_count": null,
      "metadata": {
        "id": "XIA9Tg7bmZGN"
      },
      "outputs": [],
      "source": [
        "policy = \"MlpPolicy\"\n",
        "training_timesteps = 25\n",
        "mixed_df = real_mixed_df\n",
        "test_mixed_df = test_real_mixed_df"
      ]
    },
    {
      "cell_type": "code",
      "execution_count": null,
      "metadata": {
        "id": "I144ocoi34my"
      },
      "outputs": [],
      "source": [
        "# configurations\n",
        "\n",
        "stock_dimension = len(mixed_df[\"tic\"].unique())\n",
        "state_space = stock_dimension\n",
        "\n",
        "env_kwargs = {\n",
        "  \"hmax\": 100, \n",
        "  \"initial_amount\": 1000000, \n",
        "  \"transaction_cost_pct\": 0.001, \n",
        "  \"state_space\": state_space, \n",
        "  \"stock_dim\": stock_dimension, \n",
        "  \"tech_indicator_list\": [\n",
        "    \"volume_obv\",\n",
        "    \"volume_adi\", \n",
        "    \"trend_adx\", \n",
        "    \"momentum_ao\", \n",
        "    \"trend_macd\", \n",
        "    \"momentum_rsi\", \n",
        "    \"momentum_stoch\"\n",
        "  ], \n",
        "  \"action_space\": stock_dimension, \n",
        "  \"reward_scaling\": 1e-4,\n",
        "  \"lookback\": 252,\n",
        "}"
      ]
    },
    {
      "cell_type": "code",
      "execution_count": null,
      "metadata": {
        "id": "UPQWoO3234mx"
      },
      "outputs": [],
      "source": [
        "AGENT_STR_TO_OBJECT = {\n",
        "    \"A2C\": lambda pol, env, day: A2C(pol, env, n_steps=day),\n",
        "    \"DDPG\": lambda pol, env, day: DDPG(pol, env),\n",
        "    \"PPO\": lambda pol, env, day: PPO(pol, env, n_steps=day),\n",
        "    \"Rand\": lambda pol, env, day: RandomAgent(pol, env, n_steps=day, stock_dim=stock_dimension)\n",
        "}"
      ]
    },
    {
      "cell_type": "code",
      "execution_count": null,
      "metadata": {
        "id": "VH2uxmL434mx"
      },
      "outputs": [],
      "source": [
        "TYPE_TO_NAMES = {\n",
        "    \"A2C\": [\"A2C1\", \"A2C2\", \"A2C3\"],\n",
        "    \"DDPG\": [\"DDPG1\", \"DDPG2\", \"DDPG3\"],\n",
        "    \"PPO\": [\"PPO1\", \"PPO2\", \"PPO3\"],\n",
        "    \"Mixed\": [\"A2C\", \"DDPG\", \"PPO\"],\n",
        "    \"Rand\": [\"Rand1\", \"Rand2\", \"Rand3\"],\n",
        "}"
      ]
    },
    {
      "cell_type": "markdown",
      "metadata": {
        "id": "pjXc9uvH34my"
      },
      "source": [
        "## Competitive"
      ]
    },
    {
      "cell_type": "code",
      "execution_count": null,
      "metadata": {
        "id": "LWO6MpKy34my"
      },
      "outputs": [],
      "source": [
        "class CompetitivePMEnv(gym.Env):\n",
        "  metadata = {\"render_modes\": [\"human\"], \"name\": \"marlpm_v1\"}\n",
        "\n",
        "  def __init__( \n",
        "      self,\n",
        "      df,\n",
        "      stock_dim,\n",
        "      hmax,\n",
        "      initial_amount,\n",
        "      transaction_cost_pct,\n",
        "      reward_scaling,\n",
        "      state_space,\n",
        "      action_space,\n",
        "      tech_indicator_list,\n",
        "      turbulence_threshold=None,\n",
        "      lookback=252,\n",
        "      day=0,\n",
        "      render_mode=None,\n",
        "      algo_type=\"Mixed\", # default=mixed\n",
        "  ):\n",
        "\n",
        "    assert algo_type in [\"A2C\", \"DDPG\", \"PPO\", \"Mixed\", \"Rand\"]\n",
        "\n",
        "    # attributes\n",
        "    self.lookback=lookback\n",
        "    self.df = df\n",
        "    self.stock_dim = stock_dim\n",
        "    self.hmax = hmax\n",
        "    self.initial_amount = initial_amount\n",
        "    self.transaction_cost_pct =transaction_cost_pct\n",
        "    self.reward_scaling = reward_scaling\n",
        "    self.state_space = state_space\n",
        "    self.action_dim = action_space\n",
        "    self.tech_indicator_list = tech_indicator_list\n",
        "    self.possible_agents = TYPE_TO_NAMES[algo_type]\n",
        "    \n",
        "    # buy/sell ratio reference, to explore\n",
        "    self.end_day = len(self.df[\"Date\"].unique()) - 1\n",
        "\n",
        "    # spaces\n",
        "    # check: spaces for observations only? sharing will affect?\n",
        "    self.action_space = gym.spaces.Box(low = -1, high = 1, shape = (self.action_dim,))\n",
        "    self.observation_space = gym.spaces.Box(low=-np.inf, high=np.inf, shape = (self.state_space+len(self.tech_indicator_list), self.state_space))\n",
        "\n",
        "    # agents\n",
        "    self.agent_name_mapping = {\n",
        "        agent: AGENT_STR_TO_OBJECT[algo_type](policy, self, self.end_day+1) for agent in self.possible_agents\n",
        "    }\n",
        "    self.training_agent = None\n",
        "    self.day = {\n",
        "        agent: day for agent in self.possible_agents\n",
        "    }\n",
        "\n",
        "    # data\n",
        "    self.data = {\n",
        "        agent: self.df.loc[self.day[agent]*self.state_space:self.day[agent]*self.state_space+self.state_space-1,:] for agent in self.possible_agents\n",
        "    }\n",
        "    self.covs = {\n",
        "        agent: self.data[agent]['cov_list'].values[0] for agent in self.possible_agents\n",
        "    }\n",
        "    self.state = {\n",
        "        agent: np.append(np.array(self.covs[agent]), [self.data[agent][tech].values.tolist() for tech in self.tech_indicator_list ], axis=0) for agent in self.possible_agents\n",
        "    }\n",
        "    self.terminal = False     \n",
        "    self.turbulence_threshold = turbulence_threshold   \n",
        "\n",
        "    # memory\n",
        "    self.portfolio_value = {\n",
        "        agent: self.initial_amount for agent in self.possible_agents\n",
        "    }\n",
        "    self.portfolio_return_memory = {\n",
        "        agent: [0] for agent in self.possible_agents\n",
        "    }\n",
        "    self.cum_portfolio_return_memory = {\n",
        "        agent: [0] for agent in self.possible_agents\n",
        "    }\n",
        "\n",
        "    # stock ratio\n",
        "    self.actions_memory = {\n",
        "        agent: np.zeros((1, self.state_space)) for agent in self.possible_agents\n",
        "    }\n",
        "    self.date_memory = {\n",
        "        agent: [self.data[agent][\"Date\"]] for agent in self.possible_agents\n",
        "    }\n",
        "\n",
        "    # individual actions collection\n",
        "    self.individual_preds = {\n",
        "        agent: [] for agent in self.possible_agents\n",
        "    }\n",
        "\n",
        "    # render mode\n",
        "    self.render_mode = render_mode\n",
        "\n",
        "  def collect_individual_preds(self):\n",
        "    self.individual_preds = {\n",
        "        agent: [] for agent in self.possible_agents\n",
        "    }\n",
        "    for i in range(self.end_day+1):\n",
        "      # states are somewhat static\n",
        "      curr_data = self.df.loc[i*self.state_space:i*self.state_space+self.state_space-1,:]\n",
        "      curr_covs = curr_data['cov_list'].values[0]\n",
        "      curr_state = np.append(np.array(curr_covs), [curr_data[tech].values.tolist() for tech in self.tech_indicator_list ], axis=0)\n",
        "      for agent in self.possible_agents:\n",
        "        action, _states = self.agent_name_mapping[agent].predict(curr_state)\n",
        "        self.individual_preds[agent].append(action)\n",
        "\n",
        "  def step(self, actions):\n",
        "    # termination\n",
        "    self.terminal = self.day[self.training_agent] >= self.end_day\n",
        "\n",
        "    if self.terminal:\n",
        "\n",
        "      # uncomment to print metrics on terminal\n",
        "      # print(\"=================================\")\n",
        "      # print(\"begin_money:{}\".format(self.initial_amount))           \n",
        "      # print(\"end_daily_portfolio_return:{}\".format(self.portfolio_return_memory[self.training_agent][-1]))\n",
        "      # print(\"end_cumulative_portfolio_return:{}\".format(self.cum_portfolio_return_memory[self.training_agent][-1]))\n",
        "      # print(\"Sharpe:{}\".format(calculate_sharpe(self.portfolio_return_memory[self.training_agent])))\n",
        "      # print(\"=================================\")\n",
        "\n",
        "      return self.state[self.training_agent], self.reward[self.training_agent], self.terminal, {}\n",
        "\n",
        "    else:\n",
        "      # loop through all agents so that each of them predict an action (portfolio weights)\n",
        "      for agent in self.possible_agents:\n",
        "        # get action\n",
        "        if agent == self.training_agent:\n",
        "          action = actions\n",
        "        else:\n",
        "          # action, _states = self.agent_name_mapping[agent].predict(self.state[agent], deterministic=False)\n",
        "          action = self.individual_preds[agent][self.day[agent]]\n",
        "\n",
        "        # normalisation\n",
        "        weights = self.softmax_normalization(action) \n",
        "\n",
        "        # actions memory\n",
        "        self.actions_memory[agent] = np.concatenate([self.actions_memory[agent], np.expand_dims(weights, axis=0)])\n",
        "        last_day_memory = self.data[agent]\n",
        "\n",
        "        # load next state\n",
        "        self.day[agent] += 1\n",
        "        self.data[agent] = self.df.loc[self.day[agent]*self.state_space:self.day[agent]*self.state_space+self.state_space-1,:]\n",
        "        self.covs[agent] = self.data[agent]['cov_list'].values[0]\n",
        "        self.state[agent] =  np.append(np.array(self.covs[agent]), [self.data[agent][tech].values.tolist() for tech in self.tech_indicator_list ], axis=0)\n",
        "        \n",
        "        # calculate portfolio return\n",
        "        # individual stocks' return * weight\n",
        "        portfolio_return = sum(((self.data[agent][\"Close\"].values / last_day_memory[\"Close\"].values)-1)*weights)\n",
        "        \n",
        "        # save into memory\n",
        "        self.portfolio_return_memory[agent].append(portfolio_return)\n",
        "        self.cum_portfolio_return_memory[agent].append(self.cum_portfolio_return_memory[agent][-1] + portfolio_return)\n",
        "        self.date_memory[agent].append(self.data[agent][\"Date\"])            \n",
        "\n",
        "        # the reward is the new portfolio value or end portfolio value\n",
        "        self.reward[agent] = portfolio_return \n",
        "        #self.reward = self.reward*self.reward_scaling\n",
        "      \n",
        "      # penalise or reward the target agent based on the result of all other agents\n",
        "      all_rewards = list(self.reward.values())\n",
        "      for agent in self.possible_agents:\n",
        "        # penalty = current agent - other agent\n",
        "        # if reward of current agent > other agent, penalty > 0, reward is increased\n",
        "        # else penalty < 0, reward is penalised\n",
        "        self.reward[agent] += sum(self.reward[agent] - all_rewards)\n",
        "\n",
        "    return self.state[agent], self.reward[self.training_agent], self.terminal, {}\n",
        "\n",
        "  def reset(self, seed=None, return_info=False, options=None):\n",
        "    # print(\"reset\")\n",
        "\n",
        "    # agents\n",
        "    self.agents = self.possible_agents[:]\n",
        "\n",
        "    # attributes\n",
        "    self.day = {\n",
        "        agent: 0 for agent in self.possible_agents\n",
        "    }\n",
        "    self.data = {\n",
        "        agent: self.df.loc[self.day[agent]*self.state_space:self.day[agent]*self.state_space+self.state_space-1,:] for agent in self.possible_agents\n",
        "    }\n",
        "    self.covs = {\n",
        "        agent: self.data[agent]['cov_list'].values[0] for agent in self.possible_agents\n",
        "    }\n",
        "    self.state = {\n",
        "        agent: np.append(np.array(self.covs[agent]), [self.data[agent][tech].values.tolist() for tech in self.tech_indicator_list ], axis=0) for agent in self.possible_agents\n",
        "    }\n",
        "\n",
        "    # memory\n",
        "    self.portfolio_value = {\n",
        "        agent: self.initial_amount for agent in self.possible_agents\n",
        "    }\n",
        "    self.portfolio_return_memory = {\n",
        "        agent: [0] for agent in self.possible_agents\n",
        "    }\n",
        "    self.cum_portfolio_return_memory = {\n",
        "        agent: [0] for agent in self.possible_agents\n",
        "    }\n",
        "\n",
        "    # stock ratio\n",
        "    self.actions_memory = {\n",
        "        agent: np.zeros((1, self.state_space)) for agent in self.possible_agents\n",
        "    }\n",
        "    self.date_memory = {\n",
        "        agent: [self.data[agent][\"Date\"]] for agent in self.possible_agents\n",
        "    }\n",
        "\n",
        "    # rewards\n",
        "    self.reward = {\n",
        "        agent: None for agent in self.possible_agents\n",
        "    }\n",
        "    \n",
        "    # misc\n",
        "    self.terminal = False \n",
        "    \n",
        "    return self.state[self.training_agent] \n",
        "\n",
        "  def render(self):\n",
        "    return self.state[self.training_agent]\n",
        "\n",
        "  def seed(self, seed=None):\n",
        "    self.np_random, seed = seeding.np_random(seed)\n",
        "    return [seed]\n",
        "  \n",
        "  def softmax_normalization(self, actions):\n",
        "    numerator = np.exp(actions)\n",
        "    denominator = np.sum(np.exp(actions))\n",
        "    softmax_output = numerator/denominator\n",
        "    return softmax_output\n",
        "\n",
        "  def set_training_agent(self, agent):\n",
        "    # print(agent)\n",
        "    self.training_agent = agent\n",
        "\n",
        "  def learn(self, total_timesteps=1000):\n",
        "    # run till terminal in each timestep\n",
        "    for n in range(total_timesteps):\n",
        "      print(\"Step:\", n+1)\n",
        "      self.collect_individual_preds()\n",
        "      for agent in self.possible_agents:\n",
        "        self.set_training_agent(agent)\n",
        "        self.agent_name_mapping[agent] = self.agent_name_mapping[agent].learn(total_timesteps=1)\n",
        "        \n",
        "  def save_weights(self, num_it=100):\n",
        "    for idx, agent in enumerate(self.possible_agents):\n",
        "      self.agent_name_mapping[agent].save(\"comp_{}_{}.zip\".format(agent, num_it))\n",
        "\n",
        "  def load_weights(self, num_it=100):\n",
        "    for idx, agent in enumerate(self.possible_agents):\n",
        "      self.agent_name_mapping[agent].set_parameters(\"comp_{}_{}.zip\".format(agent, num_it))\n",
        "    \n",
        "  def predict(self):\n",
        "    self.set_training_agent(self.possible_agents[0])\n",
        "    curr_state = self.reset()\n",
        "    \n",
        "    self.collect_individual_preds()\n",
        "    for i in range(self.end_day):\n",
        "      for agent in self.possible_agents:\n",
        "        self.set_training_agent(agent)\n",
        "        action, _ = self.agent_name_mapping[agent].predict(curr_state)\n",
        "        curr_state, reward, term, _ = self.step(action)\n"
      ]
    },
    {
      "cell_type": "markdown",
      "metadata": {
        "id": "uhkvSDUV34m0"
      },
      "source": [
        "### A2C"
      ]
    },
    {
      "cell_type": "markdown",
      "metadata": {
        "id": "Ro3qjwSB34m1"
      },
      "source": [
        "1. Train from scratch"
      ]
    },
    {
      "cell_type": "code",
      "execution_count": null,
      "metadata": {
        "id": "-sUXCsb034m1",
        "colab": {
          "base_uri": "https://localhost:8080/"
        },
        "outputId": "484db984-0b3a-4514-9bd5-b8e62c9072f6"
      },
      "outputs": [
        {
          "output_type": "stream",
          "name": "stdout",
          "text": [
            "Step: 1\n",
            "Step: 2\n",
            "Step: 3\n",
            "Step: 4\n",
            "Step: 5\n",
            "Step: 6\n",
            "Step: 7\n",
            "Step: 8\n",
            "Step: 9\n",
            "Step: 10\n",
            "Step: 11\n",
            "Step: 12\n",
            "Step: 13\n",
            "Step: 14\n",
            "Step: 15\n",
            "Step: 16\n",
            "Step: 17\n",
            "Step: 18\n",
            "Step: 19\n",
            "Step: 20\n",
            "Step: 21\n",
            "Step: 22\n",
            "Step: 23\n",
            "Step: 24\n",
            "Step: 25\n"
          ]
        }
      ],
      "source": [
        "a2c_comp_env = CompetitivePMEnv(df=mixed_df, algo_type=\"A2C\", **env_kwargs)\n",
        "a2c_comp_env.learn(\n",
        "    total_timesteps=training_timesteps,\n",
        ")\n",
        "a2c_comp_env.save_weights(num_it=training_timesteps)"
      ]
    },
    {
      "cell_type": "markdown",
      "metadata": {
        "id": "_YekPFi134m1"
      },
      "source": [
        "2. Analysis from Pretrained"
      ]
    },
    {
      "cell_type": "code",
      "execution_count": null,
      "metadata": {
        "id": "tW2ARwEf34m1"
      },
      "outputs": [],
      "source": [
        "# initial iter=0\n",
        "\n",
        "a2c_comp_init = CompetitivePMEnv(df=mixed_df, algo_type=\"A2C\", **env_kwargs)\n",
        "a2c_comp_init.predict()"
      ]
    },
    {
      "cell_type": "code",
      "execution_count": null,
      "metadata": {
        "id": "6BrWseZL34m2"
      },
      "outputs": [],
      "source": [
        "# trained, load weights\n",
        "\n",
        "a2c_comp_env = CompetitivePMEnv(df=mixed_df, algo_type=\"A2C\", **env_kwargs)\n",
        "a2c_comp_env.load_weights(num_it=training_timesteps)\n",
        "a2c_comp_env.predict()"
      ]
    },
    {
      "cell_type": "code",
      "execution_count": null,
      "metadata": {
        "id": "h37VHL5I34m2",
        "colab": {
          "base_uri": "https://localhost:8080/",
          "height": 545
        },
        "outputId": "ed069442-3e4b-4bd1-b33b-fb6f8eefc83e"
      },
      "outputs": [
        {
          "output_type": "display_data",
          "data": {
            "text/plain": [
              "<Figure size 432x288 with 1 Axes>"
            ],
            "image/png": "[encoded data removed]"
          },
          "metadata": {
            "needs_background": "light"
          }
        },
        {
          "output_type": "display_data",
          "data": {
            "text/plain": [
              "<Figure size 432x288 with 1 Axes>"
            ],
            "image/png": "[encoded data removed]"
          },
          "metadata": {
            "needs_background": "light"
          }
        }
      ],
      "source": [
        "# graphs\n",
        "\n",
        "plot_line_graph(a2c_comp_init, range(0, a2c_comp_init.end_day+1), a2c_comp_init.cum_portfolio_return_memory, \"A2C Initial Competitive CRR\")\n",
        "plot_line_graph(a2c_comp_env, range(0, a2c_comp_env.end_day+1), a2c_comp_env.cum_portfolio_return_memory, \"A2C Trained Competitive CRR\")"
      ]
    },
    {
      "cell_type": "code",
      "source": [
        "# value stats\n",
        "\n",
        "for agent in a2c_comp_env.possible_agents:\n",
        "  print(agent)\n",
        "  print(\"Initial:\")\n",
        "  print(\"Max DRR ->\", np.max(a2c_comp_init.portfolio_return_memory[agent]))\n",
        "  print(\"Min DRR ->\", np.min(a2c_comp_init.portfolio_return_memory[agent]))\n",
        "  print(\"Sharpe Ratio ->\", calculate_sharpe(a2c_comp_init.portfolio_return_memory[agent]))\n",
        "  print(\"\\nTrained:\")\n",
        "  print(\"Max DRR ->\", np.max(a2c_comp_env.portfolio_return_memory[agent]))\n",
        "  print(\"Min DRR ->\", np.min(a2c_comp_env.portfolio_return_memory[agent]))\n",
        "  print(\"Sharpe Ratio ->\", calculate_sharpe(a2c_comp_env.portfolio_return_memory[agent]))\n",
        "  print(\"\\n\")"
      ],
      "metadata": {
        "id": "AVvlQ6oZUOBx",
        "colab": {
          "base_uri": "https://localhost:8080/"
        },
        "outputId": "7bfdbe4d-ac2a-460b-b080-0b7f317f5fb6"
      },
      "execution_count": null,
      "outputs": [
        {
          "output_type": "stream",
          "name": "stdout",
          "text": [
            "A2C1\n",
            "Initial:\n",
            "Max DRR -> 0.07573331917414318\n",
            "Min DRR -> -0.06900025853435364\n",
            "Sharpe Ratio -> 0.7280804722305363\n",
            "\n",
            "Trained:\n",
            "Max DRR -> 0.0788221320380218\n",
            "Min DRR -> -0.0696008061209675\n",
            "Sharpe Ratio -> 0.5837507778185923\n",
            "\n",
            "\n",
            "A2C2\n",
            "Initial:\n",
            "Max DRR -> 0.08024685121378547\n",
            "Min DRR -> -0.07683473261360568\n",
            "Sharpe Ratio -> 0.7381149712695241\n",
            "\n",
            "Trained:\n",
            "Max DRR -> 0.0811692664579937\n",
            "Min DRR -> -0.08126642554268884\n",
            "Sharpe Ratio -> 0.24736647769755746\n",
            "\n",
            "\n",
            "A2C3\n",
            "Initial:\n",
            "Max DRR -> 0.08516202015539687\n",
            "Min DRR -> -0.07522687701082209\n",
            "Sharpe Ratio -> 0.3766295298804617\n",
            "\n",
            "Trained:\n",
            "Max DRR -> 0.08541415662042214\n",
            "Min DRR -> -0.07703457941150701\n",
            "Sharpe Ratio -> 0.9231604372720013\n",
            "\n",
            "\n"
          ]
        }
      ]
    },
    {
      "cell_type": "markdown",
      "metadata": {
        "id": "-vtsqgO034m2"
      },
      "source": [
        "### DDPG"
      ]
    },
    {
      "cell_type": "markdown",
      "metadata": {
        "id": "B6JLni8oj3Cm"
      },
      "source": [
        "1. Train from scratch"
      ]
    },
    {
      "cell_type": "code",
      "source": [
        "ddpg_comp_env = CompetitivePMEnv(df=mixed_df, algo_type=\"DDPG\", **env_kwargs)\n",
        "ddpg_comp_env.learn(\n",
        "    total_timesteps=training_timesteps,\n",
        ")\n",
        "ddpg_comp_env.save_weights(num_it=training_timesteps)"
      ],
      "metadata": {
        "id": "EpAoA9i3jex7"
      },
      "execution_count": null,
      "outputs": []
    },
    {
      "cell_type": "markdown",
      "metadata": {
        "id": "szv2W3kFj6y7"
      },
      "source": [
        "2. Analysis from Pretrained"
      ]
    },
    {
      "cell_type": "code",
      "execution_count": null,
      "metadata": {
        "id": "Gaxqsx2Uj6y8"
      },
      "outputs": [],
      "source": [
        "# initial iter=0\n",
        "\n",
        "ddpg_comp_init = CompetitivePMEnv(df=mixed_df, algo_type=\"DDPG\", **env_kwargs)\n",
        "ddpg_comp_init.predict()"
      ]
    },
    {
      "cell_type": "code",
      "execution_count": null,
      "metadata": {
        "id": "-uAhKJnKj6y9"
      },
      "outputs": [],
      "source": [
        "# trained, load weights\n",
        "\n",
        "ddpg_comp_env = CompetitivePMEnv(df=mixed_df, algo_type=\"DDPG\", **env_kwargs)\n",
        "ddpg_comp_env.load_weights(num_it=training_timesteps)\n",
        "ddpg_comp_env.predict()"
      ]
    },
    {
      "cell_type": "code",
      "execution_count": null,
      "metadata": {
        "id": "oYM4jdgmj6y9"
      },
      "outputs": [],
      "source": [
        "# graphs\n",
        "\n",
        "plot_line_graph(ddpg_comp_init, range(0, ddpg_comp_init.end_day+1), ddpg_comp_init.cum_portfolio_return_memory, \"DDPG Initial Competitive CRR\")\n",
        "plot_line_graph(ddpg_comp_env, range(0, ddpg_comp_env.end_day+1), ddpg_comp_env.cum_portfolio_return_memory, \"DDPG Trained Competitive CRR\")"
      ]
    },
    {
      "cell_type": "code",
      "source": [
        "# value stats\n",
        "\n",
        "for agent in ddpg_comp_env.possible_agents:\n",
        "  print(agent)\n",
        "  print(\"Initial:\")\n",
        "  print(\"Max DRR ->\", np.max(ddpg_comp_init.portfolio_return_memory[agent]))\n",
        "  print(\"Min DRR ->\", np.min(ddpg_comp_init.portfolio_return_memory[agent]))\n",
        "  print(\"Sharpe Ratio ->\", calculate_sharpe(ddpg_comp_init.portfolio_return_memory[agent]))\n",
        "  print(\"\\nTrained:\")\n",
        "  print(\"Max DRR ->\", np.max(ddpg_comp_env.portfolio_return_memory[agent]))\n",
        "  print(\"Min DRR ->\", np.min(ddpg_comp_env.portfolio_return_memory[agent]))\n",
        "  print(\"Sharpe Ratio ->\", calculate_sharpe(ddpg_comp_env.portfolio_return_memory[agent]))\n",
        "  print(\"\\n\")"
      ],
      "metadata": {
        "id": "gacuEgpjj6y-"
      },
      "execution_count": null,
      "outputs": []
    },
    {
      "cell_type": "markdown",
      "metadata": {
        "id": "PeV0ssSd34m4"
      },
      "source": [
        "### PPO"
      ]
    },
    {
      "cell_type": "markdown",
      "metadata": {
        "id": "1OzUoDiIj3Xe"
      },
      "source": [
        "1. Train from scratch"
      ]
    },
    {
      "cell_type": "code",
      "source": [
        "ppo_comp_env = CompetitivePMEnv(df=mixed_df, algo_type=\"PPO\", **env_kwargs)\n",
        "ppo_comp_env.learn(\n",
        "    total_timesteps=training_timesteps,\n",
        ")\n",
        "ppo_comp_env.save_weights(num_it=training_timesteps)"
      ],
      "metadata": {
        "id": "acmA0WjljfqA"
      },
      "execution_count": null,
      "outputs": []
    },
    {
      "cell_type": "markdown",
      "metadata": {
        "id": "v73RImToj8oQ"
      },
      "source": [
        "2. Analysis from Pretrained"
      ]
    },
    {
      "cell_type": "code",
      "execution_count": null,
      "metadata": {
        "id": "1FRQyU78j8oR"
      },
      "outputs": [],
      "source": [
        "# initial iter=0\n",
        "\n",
        "ppo_comp_init = CompetitivePMEnv(df=mixed_df, algo_type=\"PPO\", **env_kwargs)\n",
        "ppo_comp_init.predict()"
      ]
    },
    {
      "cell_type": "code",
      "execution_count": null,
      "metadata": {
        "id": "sgaaAUajj8oS"
      },
      "outputs": [],
      "source": [
        "# trained, load weights\n",
        "\n",
        "ppo_comp_env = CompetitivePMEnv(df=mixed_df, algo_type=\"PPO\", **env_kwargs)\n",
        "ppo_comp_env.load_weights(num_it=training_timesteps)\n",
        "ppo_comp_env.predict()"
      ]
    },
    {
      "cell_type": "code",
      "execution_count": null,
      "metadata": {
        "id": "4q4xjzSPj8oT"
      },
      "outputs": [],
      "source": [
        "# graphs\n",
        "\n",
        "plot_line_graph(ppo_comp_init, range(0, ppo_comp_init.end_day+1), ppo_comp_init.cum_portfolio_return_memory, \"PPO Initial Competitive CRR\")\n",
        "plot_line_graph(ppo_comp_env, range(0, ppo_comp_env.end_day+1), ppo_comp_env.cum_portfolio_return_memory, \"PPO Trained Competitive CRR\")"
      ]
    },
    {
      "cell_type": "code",
      "source": [
        "# value stats\n",
        "\n",
        "for agent in ppo_comp_env.possible_agents:\n",
        "  print(agent)\n",
        "  print(\"Initial:\")\n",
        "  print(\"Max DRR ->\", np.max(ppo_comp_init.portfolio_return_memory[agent]))\n",
        "  print(\"Min DRR ->\", np.min(ppo_comp_init.portfolio_return_memory[agent]))\n",
        "  print(\"Sharpe Ratio ->\", calculate_sharpe(ppo_comp_init.portfolio_return_memory[agent]))\n",
        "  print(\"\\nTrained:\")\n",
        "  print(\"Max DRR ->\", np.max(ppo_comp_env.portfolio_return_memory[agent]))\n",
        "  print(\"Min DRR ->\", np.min(ppo_comp_env.portfolio_return_memory[agent]))\n",
        "  print(\"Sharpe Ratio ->\", calculate_sharpe(ppo_comp_env.portfolio_return_memory[agent]))\n",
        "  print(\"\\n\")"
      ],
      "metadata": {
        "id": "b1BExYaej8oT"
      },
      "execution_count": null,
      "outputs": []
    },
    {
      "cell_type": "markdown",
      "source": [
        "### Random"
      ],
      "metadata": {
        "id": "BCs_6PntNLR3"
      }
    },
    {
      "cell_type": "code",
      "execution_count": null,
      "metadata": {
        "id": "K-RzFhNgNQbJ"
      },
      "outputs": [],
      "source": [
        "# random agent act as a benchmark, doesn't learn\n",
        "# can predict immediately after initialisation\n",
        "\n",
        "rand_comp_env = CompetitivePMEnv(df=mixed_df, algo_type=\"Rand\", **env_kwargs)\n",
        "rand_comp_env.predict()"
      ]
    },
    {
      "cell_type": "code",
      "execution_count": null,
      "metadata": {
        "id": "tqckCWxTT4aI"
      },
      "outputs": [],
      "source": [
        "# graphs\n",
        "\n",
        "plot_line_graph(rand_comp_env, range(0, rand_comp_env.end_day+1), rand_comp_env.cum_portfolio_return_memory, \"Random Competitive CRR\")"
      ]
    },
    {
      "cell_type": "code",
      "source": [
        "# value stats\n",
        "\n",
        "for agent in rand_comp_env.possible_agents:\n",
        "  print(agent)\n",
        "  print(\"Max DRR ->\", np.max(rand_comp_env.portfolio_return_memory[agent]))\n",
        "  print(\"Min DRR ->\", np.min(rand_comp_env.portfolio_return_memory[agent]))\n",
        "  print(\"Sharpe Ratio ->\", calculate_sharpe(rand_comp_env.portfolio_return_memory[agent]))\n",
        "  print(\"\\n\")"
      ],
      "metadata": {
        "id": "GsK5iFAkT4aN"
      },
      "execution_count": null,
      "outputs": []
    },
    {
      "cell_type": "markdown",
      "metadata": {
        "id": "Kmi8kYBr34m4"
      },
      "source": [
        "## Cooperative"
      ]
    },
    {
      "cell_type": "code",
      "execution_count": null,
      "metadata": {
        "id": "RmjMJvFA34m4"
      },
      "outputs": [],
      "source": [
        "class CooperativePMEnv(gym.Env):\n",
        "  metadata = {\"render_modes\": [\"human\"], \"name\": \"marlpm_v1\"}\n",
        "\n",
        "  def __init__(\n",
        "      self, \n",
        "      df,\n",
        "      stock_dim,\n",
        "      hmax,\n",
        "      initial_amount,\n",
        "      transaction_cost_pct,\n",
        "      reward_scaling,\n",
        "      state_space,\n",
        "      action_space,\n",
        "      tech_indicator_list,\n",
        "      turbulence_threshold=None,\n",
        "      lookback=252,\n",
        "      day=0,\n",
        "      render_mode=None,\n",
        "      algo_type=\"Mixed\", # default=mixed\n",
        "  ):\n",
        "\n",
        "    assert algo_type in [\"A2C\", \"DDPG\", \"PPO\", \"Mixed\", \"Rand\"]\n",
        "\n",
        "    # attributes\n",
        "    self.lookback=lookback\n",
        "    self.df = df\n",
        "    self.stock_dim = stock_dim\n",
        "    self.hmax = hmax\n",
        "    self.initial_amount = initial_amount\n",
        "    self.transaction_cost_pct =transaction_cost_pct\n",
        "    self.reward_scaling = reward_scaling\n",
        "    self.state_space = state_space\n",
        "    self.action_dim = action_space\n",
        "    self.tech_indicator_list = tech_indicator_list\n",
        "    self.possible_agents = TYPE_TO_NAMES[algo_type]\n",
        "    \n",
        "    # buy/sell ratio reference, to explore\n",
        "    self.end_day = len(self.df[\"Date\"].unique()) - 1\n",
        "\n",
        "    # spaces\n",
        "    # check: spaces for observations only? sharing will affect?\n",
        "    self.action_space = gym.spaces.Box(low = -1, high = 1, shape = (self.action_dim,))\n",
        "    self.observation_space = gym.spaces.Box(low=-np.inf, high=np.inf, shape = (self.state_space+len(self.tech_indicator_list), self.state_space))\n",
        "\n",
        "    # agents\n",
        "    self.agent_name_mapping = {\n",
        "        agent: AGENT_STR_TO_OBJECT[algo_type](policy, self, self.end_day+1) for agent in self.possible_agents\n",
        "    }\n",
        "    self.training_agent = None\n",
        "    self.day = {\n",
        "        agent: day for agent in self.possible_agents\n",
        "    }\n",
        "\n",
        "    # data\n",
        "    self.data = {\n",
        "        agent: self.df.loc[self.day[agent]*self.state_space:self.day[agent]*self.state_space+self.state_space-1,:] for agent in self.possible_agents\n",
        "    }\n",
        "    self.covs = {\n",
        "        agent: self.data[agent]['cov_list'].values[0] for agent in self.possible_agents\n",
        "    }\n",
        "    self.state = {\n",
        "        agent: np.append(np.array(self.covs[agent]), [self.data[agent][tech].values.tolist() for tech in self.tech_indicator_list ], axis=0) for agent in self.possible_agents\n",
        "    }\n",
        "    self.terminal = False     \n",
        "    self.turbulence_threshold = turbulence_threshold   \n",
        "\n",
        "    # memory\n",
        "    self.portfolio_value = {\n",
        "        agent: self.initial_amount for agent in self.possible_agents\n",
        "    }\n",
        "    self.portfolio_return_memory = {\n",
        "        agent: [0] for agent in self.possible_agents\n",
        "    }\n",
        "    self.cum_portfolio_return_memory = {\n",
        "        agent: [0] for agent in self.possible_agents\n",
        "    }\n",
        "\n",
        "    # stock ratio\n",
        "    self.actions_memory = {\n",
        "        agent: np.zeros((1, self.stock_dim)) for agent in self.possible_agents\n",
        "    }\n",
        "    self.date_memory = {\n",
        "        agent: [self.data[agent][\"Date\"].unique()[0]] for agent in self.possible_agents\n",
        "    }\n",
        "\n",
        "    # individual actions collection\n",
        "    self.individual_preds = {\n",
        "        agent: [] for agent in self.possible_agents\n",
        "    }\n",
        "\n",
        "    # render mode\n",
        "    self.render_mode = render_mode\n",
        "\n",
        "  def collect_individual_preds(self):\n",
        "    self.individual_preds = {\n",
        "        agent: [] for agent in self.possible_agents\n",
        "    }\n",
        "    for i in range(self.end_day+1):\n",
        "      # states are somewhat static\n",
        "      curr_data = self.df.loc[i*self.state_space:i*self.state_space+self.state_space-1,:]\n",
        "      curr_covs = curr_data['cov_list'].values[0]\n",
        "      curr_state = np.append(np.array(curr_covs), [curr_data[tech].values.tolist() for tech in self.tech_indicator_list ], axis=0)\n",
        "      for agent in self.possible_agents:\n",
        "        action, _states = self.agent_name_mapping[agent].predict(curr_state)\n",
        "        self.individual_preds[agent].append(action)\n",
        "  \n",
        "  def step(self, actions):\n",
        "\n",
        "    # termination\n",
        "    self.terminal = self.day[self.training_agent] >= self.end_day\n",
        "\n",
        "    if self.terminal:\n",
        "\n",
        "      # uncomment to print metrics on terminal\n",
        "      # print(\"=================================\")\n",
        "      # print(\"begin_money:{}\".format(self.initial_amount))           \n",
        "      # print(\"end_daily_portfolio_return:{}\".format(self.portfolio_return_memory[self.training_agent][-1]))\n",
        "      # print(\"end_cumulative_portfolio_return:{}\".format(self.cum_portfolio_return_memory[self.training_agent][-1]))\n",
        "      # print(\"Sharpe:{}\".format(calculate_sharpe(self.portfolio_return_memory[self.training_agent])))\n",
        "      # print(\"=================================\")\n",
        "\n",
        "      return self.state[self.training_agent], self.reward[self.training_agent], self.terminal, {}\n",
        "\n",
        "    else:\n",
        "      # loop through all agents so that each of them predict an action (portfolio weights)\n",
        "      for agent in self.possible_agents:\n",
        "        # get action\n",
        "        if agent == self.training_agent:\n",
        "          action = actions\n",
        "        else:\n",
        "          # action, _states = self.agent_name_mapping[agent].predict(self.state[agent], deterministic=False)\n",
        "          action = self.individual_preds[agent][self.day[agent]]\n",
        "\n",
        "        # normalisation\n",
        "        weights = self.softmax_normalization(action) \n",
        "\n",
        "        # actions memory\n",
        "        self.actions_memory[agent] = np.concatenate([self.actions_memory[agent], np.expand_dims(weights, axis=0)])\n",
        "        last_day_memory = self.data[agent]\n",
        "\n",
        "        # load next state\n",
        "        self.day[agent] += 1\n",
        "        self.data[agent] = self.df.loc[self.day[agent]*self.state_space:self.day[agent]*self.state_space+self.state_space-1,:]\n",
        "        self.covs[agent] = self.data[agent]['cov_list'].values[0]\n",
        "        self.state[agent] =  np.append(np.array(self.covs[agent]), [self.data[agent][tech].values.tolist() for tech in self.tech_indicator_list ], axis=0)\n",
        "        \n",
        "        # calculate portfolio return\n",
        "        # individual stocks' return * weight\n",
        "        portfolio_return = sum(((self.data[agent][\"Close\"].values / last_day_memory[\"Close\"].values)-1)*weights)\n",
        "\n",
        "        # save into memory\n",
        "        self.portfolio_return_memory[agent].append(portfolio_return)\n",
        "        self.cum_portfolio_return_memory[agent].append(self.cum_portfolio_return_memory[agent][-1] + portfolio_return)\n",
        "        self.date_memory[agent].append(self.data[agent][\"Date\"].unique()[0])            \n",
        "\n",
        "        # the reward is the new portfolio value or end portfolio value\n",
        "        self.reward[agent] = portfolio_return \n",
        "        #self.reward = self.reward*self.reward_scaling\n",
        "      \n",
        "      # penalise or reward the target agent based on the result of all other agents\n",
        "      all_rewards = list(self.reward.values())\n",
        "      mean_reward = np.mean(all_rewards)\n",
        "      for agent in self.possible_agents:\n",
        "        # penalty = abs(current agent - mean)\n",
        "        # reward = reward - penalty\n",
        "        # rewards have to be similar across all agents\n",
        "        # the greater the difference, the greater the penalty\n",
        "        self.reward[agent] -= np.abs(self.reward[agent] - mean_reward)\n",
        "\n",
        "    return self.state[agent], self.reward[self.training_agent], self.terminal, {}\n",
        "\n",
        "  def reset(self, seed=None, return_info=False, options=None):\n",
        "    # print(\"reset\")\n",
        "\n",
        "    # agents\n",
        "    self.agents = self.possible_agents[:]\n",
        "\n",
        "    # attributes\n",
        "    self.day = {\n",
        "        agent: 0 for agent in self.possible_agents\n",
        "    }\n",
        "    self.data = {\n",
        "        agent: self.df.loc[self.day[agent]*self.state_space:self.day[agent]*self.state_space+self.state_space-1,:] for agent in self.possible_agents\n",
        "    }\n",
        "    self.covs = {\n",
        "        agent: self.data[agent]['cov_list'].values[0] for agent in self.possible_agents\n",
        "    }\n",
        "    self.state = {\n",
        "        agent: np.append(np.array(self.covs[agent]), [self.data[agent][tech].values.tolist() for tech in self.tech_indicator_list ], axis=0) for agent in self.possible_agents\n",
        "    }\n",
        "\n",
        "    # memory\n",
        "    self.portfolio_value = {\n",
        "        agent: self.initial_amount for agent in self.possible_agents\n",
        "    }\n",
        "    self.portfolio_return_memory = {\n",
        "        agent: [0] for agent in self.possible_agents\n",
        "    }\n",
        "    self.cum_portfolio_return_memory = {\n",
        "        agent: [0] for agent in self.possible_agents\n",
        "    }\n",
        "\n",
        "    # stock ratio\n",
        "    self.actions_memory = {\n",
        "        agent: np.zeros((1, self.stock_dim)) for agent in self.possible_agents\n",
        "    }\n",
        "    self.date_memory = {\n",
        "        agent: [self.data[agent][\"Date\"].unique()[0]] for agent in self.possible_agents\n",
        "    }\n",
        "\n",
        "    # rewards\n",
        "    self.reward = {\n",
        "        agent: None for agent in self.possible_agents\n",
        "    }\n",
        "    \n",
        "    # misc\n",
        "    self.terminal = False \n",
        "    \n",
        "    return self.state[self.training_agent] \n",
        "\n",
        "  def render(self):\n",
        "    return self.state[self.training_agent]\n",
        "\n",
        "  def seed(self, seed=None):\n",
        "    self.np_random, seed = seeding.np_random(seed)\n",
        "    return [seed]\n",
        "  \n",
        "  def softmax_normalization(self, actions):\n",
        "    numerator = np.exp(actions)\n",
        "    denominator = np.sum(np.exp(actions))\n",
        "    softmax_output = numerator/denominator\n",
        "    return softmax_output\n",
        "\n",
        "  def set_training_agent(self, agent):\n",
        "    # print(agent)\n",
        "    self.training_agent = agent\n",
        "\n",
        "  def learn(self, total_timesteps=1000):\n",
        "    # run till terminal in each timestep\n",
        "    for n in range(total_timesteps):\n",
        "      print(\"Step:\", n+1)\n",
        "      self.collect_individual_preds()\n",
        "      for agent in self.possible_agents:\n",
        "        self.set_training_agent(agent)\n",
        "        self.agent_name_mapping[agent] = self.agent_name_mapping[agent].learn(total_timesteps=1)\n",
        "        \n",
        "  def save_weights(self, num_it=100):\n",
        "    for idx, agent in enumerate(self.possible_agents):\n",
        "      self.agent_name_mapping[agent].save(\"coop_{}_{}.zip\".format(agent, num_it))\n",
        "\n",
        "  def load_weights(self, num_it=100):\n",
        "    for idx, agent in enumerate(self.possible_agents):\n",
        "      self.agent_name_mapping[agent].set_parameters(\"coop_{}_{}.zip\".format(agent, num_it))\n",
        "\n",
        "  def predict(self):\n",
        "    self.set_training_agent(self.possible_agents[0])\n",
        "    curr_state = self.reset()\n",
        "    \n",
        "    self.collect_individual_preds()\n",
        "    for i in range(self.end_day):\n",
        "      for agent in self.possible_agents:\n",
        "        self.set_training_agent(agent)\n",
        "        action, _ = self.agent_name_mapping[agent].predict(curr_state)\n",
        "        curr_state, reward, term, _ = self.step(action)"
      ]
    },
    {
      "cell_type": "markdown",
      "metadata": {
        "id": "-ZfuAnux34m5"
      },
      "source": [
        "### A2C"
      ]
    },
    {
      "cell_type": "markdown",
      "metadata": {
        "id": "0SB-Xk8czFHA"
      },
      "source": [
        "1. Train from scratch"
      ]
    },
    {
      "cell_type": "code",
      "execution_count": null,
      "metadata": {
        "colab": {
          "base_uri": "https://localhost:8080/"
        },
        "id": "wdGQB0BbzFHC",
        "outputId": "1e0f595a-812b-4d5f-9dab-df83cccc6baa"
      },
      "outputs": [
        {
          "output_type": "stream",
          "name": "stdout",
          "text": [
            "Step: 1\n",
            "Step: 2\n",
            "Step: 3\n",
            "Step: 4\n",
            "Step: 5\n"
          ]
        }
      ],
      "source": [
        "a2c_coop_env = CooperativePMEnv(df=mixed_df, algo_type=\"A2C\", **env_kwargs)\n",
        "a2c_coop_env.learn(\n",
        "    total_timesteps=training_timesteps,\n",
        ")\n",
        "a2c_coop_env.save_weights(num_it=training_timesteps)"
      ]
    },
    {
      "cell_type": "markdown",
      "metadata": {
        "id": "Iy1L2YoFzFHD"
      },
      "source": [
        "2. Analysis from Pretrained"
      ]
    },
    {
      "cell_type": "code",
      "execution_count": null,
      "metadata": {
        "id": "_5L1hsS9gpfC"
      },
      "outputs": [],
      "source": [
        "# initial iter=0\n",
        "\n",
        "a2c_coop_init = CooperativePMEnv(df=mixed_df, algo_type=\"A2C\", **env_kwargs)\n",
        "a2c_coop_init.predict()"
      ]
    },
    {
      "cell_type": "code",
      "execution_count": null,
      "metadata": {
        "id": "ngg3cXKZgpfI"
      },
      "outputs": [],
      "source": [
        "# trained, load weights\n",
        "\n",
        "a2c_coop_env = CooperativePMEnv(df=mixed_df, algo_type=\"A2C\", **env_kwargs)\n",
        "a2c_coop_env.load_weights(num_it=training_timesteps)\n",
        "a2c_coop_env.predict()"
      ]
    },
    {
      "cell_type": "code",
      "execution_count": null,
      "metadata": {
        "id": "CUDhQPFEgpfI"
      },
      "outputs": [],
      "source": [
        "# graphs\n",
        "\n",
        "plot_line_graph(a2c_coop_init, range(0, a2c_coop_init.end_day+1), a2c_coop_init.cum_portfolio_return_memory, \"A2C Initial Cooperative CRR\")\n",
        "plot_line_graph(a2c_coop_env, range(0, a2c_comp_env.end_day+1), a2c_coop_env.cum_portfolio_return_memory, \"A2C Trained Cooperative CRR\")"
      ]
    },
    {
      "cell_type": "code",
      "source": [
        "# value stats\n",
        "\n",
        "for agent in a2c_coop_init.possible_agents:\n",
        "  print(agent)\n",
        "  print(\"Initial:\")\n",
        "  print(\"Max DRR ->\", np.max(a2c_coop_init.portfolio_return_memory[agent]))\n",
        "  print(\"Min DRR ->\", np.min(a2c_coop_init.portfolio_return_memory[agent]))\n",
        "  print(\"Sharpe Ratio ->\", calculate_sharpe(a2c_coop_init.portfolio_return_memory[agent]))\n",
        "  print(\"\\nTrained:\")\n",
        "  print(\"Max DRR ->\", np.max(a2c_coop_env.portfolio_return_memory[agent]))\n",
        "  print(\"Min DRR ->\", np.min(a2c_coop_env.portfolio_return_memory[agent]))\n",
        "  print(\"Sharpe Ratio ->\", calculate_sharpe(a2c_coop_env.portfolio_return_memory[agent]))\n",
        "  print(\"\\n\")"
      ],
      "metadata": {
        "id": "_gQopwZvgpfJ"
      },
      "execution_count": null,
      "outputs": []
    },
    {
      "cell_type": "markdown",
      "metadata": {
        "id": "9be_VDvO34m5"
      },
      "source": [
        "### DDPG"
      ]
    },
    {
      "cell_type": "markdown",
      "metadata": {
        "id": "e0QR-yLHmQ7G"
      },
      "source": [
        "1. Train from scratch"
      ]
    },
    {
      "cell_type": "code",
      "source": [
        "ddpg_coop_env = CooperativePMEnv(df=mixed_df, algo_type=\"DDPG\", **env_kwargs)\n",
        "ddpg_coop_env.learn(\n",
        "    total_timesteps=training_timesteps,\n",
        ")\n",
        "ddpg_coop_env.save_weights(num_it=training_timesteps)"
      ],
      "metadata": {
        "id": "VjAxKHcPmQ7J"
      },
      "execution_count": null,
      "outputs": []
    },
    {
      "cell_type": "markdown",
      "metadata": {
        "id": "g33f9N4imQ7K"
      },
      "source": [
        "2. Analysis from Pretrained"
      ]
    },
    {
      "cell_type": "code",
      "execution_count": null,
      "metadata": {
        "id": "6hvfsHnYmQ7K"
      },
      "outputs": [],
      "source": [
        "# initial iter=0\n",
        "\n",
        "ddpg_coop_init = CooperativePMEnv(df=mixed_df, algo_type=\"DDPG\", **env_kwargs)\n",
        "ddpg_coop_init.predict()"
      ]
    },
    {
      "cell_type": "code",
      "execution_count": null,
      "metadata": {
        "id": "VKizgHnCmQ7L"
      },
      "outputs": [],
      "source": [
        "# trained, load weights\n",
        "\n",
        "ddpg_coop_env = CooperativePMEnv(df=mixed_df, algo_type=\"DDPG\", **env_kwargs)\n",
        "ddpg_coop_env.load_weights(num_it=training_timesteps)\n",
        "ddpg_coop_env.predict()"
      ]
    },
    {
      "cell_type": "code",
      "execution_count": null,
      "metadata": {
        "id": "My-jIbEemQ7L"
      },
      "outputs": [],
      "source": [
        "# graphs\n",
        "\n",
        "plot_line_graph(ddpg_coop_init, range(0, ddpg_coop_init.end_day+1), ddpg_coop_init.cum_portfolio_return_memory, \"DDPG Initial Cooperative CRR\")\n",
        "plot_line_graph(ddpg_coop_env, range(0, ddpg_coop_env.end_day+1), ddpg_coop_env.cum_portfolio_return_memory, \"DDPG Trained Cooperative CRR\")"
      ]
    },
    {
      "cell_type": "code",
      "source": [
        "# value stats\n",
        "\n",
        "for agent in ddpg_coop_env.possible_agents:\n",
        "  print(agent)\n",
        "  print(\"Initial:\")\n",
        "  print(\"Max DRR ->\", np.max(ddpg_coop_init.portfolio_return_memory[agent]))\n",
        "  print(\"Min DRR ->\", np.min(ddpg_coop_init.portfolio_return_memory[agent]))\n",
        "  print(\"Sharpe Ratio ->\", calculate_sharpe(ddpg_coop_init.portfolio_return_memory[agent]))\n",
        "  print(\"\\nTrained:\")\n",
        "  print(\"Max DRR ->\", np.max(ddpg_coop_env.portfolio_return_memory[agent]))\n",
        "  print(\"Min DRR ->\", np.min(ddpg_coop_env.portfolio_return_memory[agent]))\n",
        "  print(\"Sharpe Ratio ->\", calculate_sharpe(ddpg_coop_env.portfolio_return_memory[agent]))\n",
        "  print(\"\\n\")"
      ],
      "metadata": {
        "id": "o84d1oWLmQ7L"
      },
      "execution_count": null,
      "outputs": []
    },
    {
      "cell_type": "markdown",
      "metadata": {
        "id": "jY6tolKe34m6"
      },
      "source": [
        "### PPO"
      ]
    },
    {
      "cell_type": "markdown",
      "metadata": {
        "id": "HFUNUdGGmj4R"
      },
      "source": [
        "1. Train from scratch"
      ]
    },
    {
      "cell_type": "code",
      "source": [
        "ppo_coop_env = CooperativePMEnv(df=mixed_df, algo_type=\"PPO\", **env_kwargs)\n",
        "ppo_coop_env.learn(\n",
        "    total_timesteps=training_timesteps,\n",
        ")\n",
        "ppo_coop_env.save_weights(num_it=training_timesteps)"
      ],
      "metadata": {
        "id": "5MT-bj9Imj4T"
      },
      "execution_count": null,
      "outputs": []
    },
    {
      "cell_type": "markdown",
      "metadata": {
        "id": "5MOLKNUsmj4U"
      },
      "source": [
        "2. Analysis from Pretrained"
      ]
    },
    {
      "cell_type": "code",
      "execution_count": null,
      "metadata": {
        "id": "GcrcjBWfmj4U"
      },
      "outputs": [],
      "source": [
        "# initial iter=0\n",
        "\n",
        "ppo_coop_init = CooperativePMEnv(df=mixed_df, algo_type=\"PPO\", **env_kwargs)\n",
        "ppo_coop_init.predict()"
      ]
    },
    {
      "cell_type": "code",
      "execution_count": null,
      "metadata": {
        "id": "XGh97OsYmj4V"
      },
      "outputs": [],
      "source": [
        "# trained, load weights\n",
        "\n",
        "ppo_coop_env = CooperativePMEnv(df=mixed_df, algo_type=\"PPO\", **env_kwargs)\n",
        "ppo_coop_env.load_weights(num_it=training_timesteps)\n",
        "ppo_coop_env.predict()"
      ]
    },
    {
      "cell_type": "code",
      "execution_count": null,
      "metadata": {
        "id": "sIcpvmGlmj4V"
      },
      "outputs": [],
      "source": [
        "# graphs\n",
        "\n",
        "plot_line_graph(ppo_coop_init, range(0, ppo_coop_init.end_day+1), ppo_coop_init.cum_portfolio_return_memory, \"PPO Initial Cooperative CRR\")\n",
        "plot_line_graph(ppo_coop_env, range(0, ppo_coop_env.end_day+1), ppo_coop_env.cum_portfolio_return_memory, \"PPO Trained Cooperative CRR\")"
      ]
    },
    {
      "cell_type": "code",
      "source": [
        "# value stats\n",
        "\n",
        "for agent in ppo_coop_env.possible_agents:\n",
        "  print(agent)\n",
        "  print(\"Initial:\")\n",
        "  print(\"Max DRR ->\", np.max(ppo_coop_init.portfolio_return_memory[agent]))\n",
        "  print(\"Min DRR ->\", np.min(ppo_coop_init.portfolio_return_memory[agent]))\n",
        "  print(\"Sharpe Ratio ->\", calculate_sharpe(ppo_coop_init.portfolio_return_memory[agent]))\n",
        "  print(\"\\nTrained:\")\n",
        "  print(\"Max DRR ->\", np.max(ppo_coop_env.portfolio_return_memory[agent]))\n",
        "  print(\"Min DRR ->\", np.min(ppo_coop_env.portfolio_return_memory[agent]))\n",
        "  print(\"Sharpe Ratio ->\", calculate_sharpe(ppo_coop_env.portfolio_return_memory[agent]))\n",
        "  print(\"\\n\")"
      ],
      "metadata": {
        "id": "LG1s1xOLmj4V"
      },
      "execution_count": null,
      "outputs": []
    },
    {
      "cell_type": "markdown",
      "source": [
        "### Random"
      ],
      "metadata": {
        "id": "4BEMXY2UN_wP"
      }
    },
    {
      "cell_type": "code",
      "execution_count": null,
      "metadata": {
        "id": "DtvM-_KMUDdH"
      },
      "outputs": [],
      "source": [
        "# random agent act as a benchmark, doesn't learn\n",
        "# can predict immediately after initialisation\n",
        "\n",
        "rand_coop_env = CooperativePMEnv(df=mixed_df, algo_type=\"Rand\", **env_kwargs)\n",
        "rand_coop_env.predict()"
      ]
    },
    {
      "cell_type": "code",
      "execution_count": null,
      "metadata": {
        "id": "dgDQjX3vUDdJ"
      },
      "outputs": [],
      "source": [
        "# graphs\n",
        "\n",
        "plot_line_graph(rand_coop_env, range(0, rand_coop_env.end_day+1), rand_coop_env.cum_portfolio_return_memory, \"Random Competitive CRR\")"
      ]
    },
    {
      "cell_type": "code",
      "source": [
        "# value stats\n",
        "\n",
        "for agent in rand_coop_env.possible_agents:\n",
        "  print(agent)\n",
        "  print(\"Max DRR ->\", np.max(rand_coop_env.portfolio_return_memory[agent]))\n",
        "  print(\"Min DRR ->\", np.min(rand_coop_env.portfolio_return_memory[agent]))\n",
        "  print(\"Sharpe Ratio ->\", calculate_sharpe(rand_coop_env.portfolio_return_memory[agent]))\n",
        "  print(\"\\n\")"
      ],
      "metadata": {
        "id": "0_nRfEvfUDdK"
      },
      "execution_count": null,
      "outputs": []
    },
    {
      "cell_type": "markdown",
      "source": [
        "# Testing"
      ],
      "metadata": {
        "id": "xBKN_t3PFn0g"
      }
    },
    {
      "cell_type": "markdown",
      "source": [
        "## Competitive"
      ],
      "metadata": {
        "id": "s92UQNXoFvqm"
      }
    },
    {
      "cell_type": "markdown",
      "metadata": {
        "id": "Mme4q-EaF2E7"
      },
      "source": [
        "### A2C"
      ]
    },
    {
      "cell_type": "code",
      "execution_count": null,
      "metadata": {
        "id": "6MsDSpCkizoS"
      },
      "outputs": [],
      "source": [
        "# initial iter=0\n",
        "\n",
        "a2c_test_comp_init = CompetitivePMEnv(df=test_mixed_df, algo_type=\"A2C\", **env_kwargs)\n",
        "a2c_test_comp_init.predict()"
      ]
    },
    {
      "cell_type": "code",
      "execution_count": null,
      "metadata": {
        "id": "UV2WOm-bizoT"
      },
      "outputs": [],
      "source": [
        "# trained, load weights\n",
        "\n",
        "a2c_test_comp_env = CompetitivePMEnv(df=test_mixed_df, algo_type=\"A2C\", **env_kwargs)\n",
        "a2c_test_comp_env.load_weights(num_it=training_timesteps)\n",
        "a2c_test_comp_env.predict()"
      ]
    },
    {
      "cell_type": "code",
      "execution_count": null,
      "metadata": {
        "id": "U7-n32d4izoU"
      },
      "outputs": [],
      "source": [
        "# graphs\n",
        "\n",
        "plot_line_graph(a2c_test_comp_init, range(0, a2c_test_comp_init.end_day+1), a2c_test_comp_init.cum_portfolio_return_memory, \"A2C Initial Competitive CRR\")\n",
        "plot_line_graph(a2c_test_comp_env, range(0, a2c_test_comp_env.end_day+1), a2c_test_comp_env.cum_portfolio_return_memory, \"A2C Trained Competitive CRR\")"
      ]
    },
    {
      "cell_type": "code",
      "source": [
        "# value stats\n",
        "\n",
        "for agent in a2c_test_comp_env.possible_agents:\n",
        "  print(agent)\n",
        "  print(\"Initial:\")\n",
        "  print(\"Max DRR ->\", np.max(a2c_test_comp_init.portfolio_return_memory[agent]))\n",
        "  print(\"Min DRR ->\", np.min(a2c_test_comp_init.portfolio_return_memory[agent]))\n",
        "  print(\"Sharpe Ratio ->\", calculate_sharpe(a2c_test_comp_init.portfolio_return_memory[agent]))\n",
        "  print(\"\\nTrained:\")\n",
        "  print(\"Max DRR ->\", np.max(a2c_test_comp_env.portfolio_return_memory[agent]))\n",
        "  print(\"Min DRR ->\", np.min(a2c_test_comp_env.portfolio_return_memory[agent]))\n",
        "  print(\"Sharpe Ratio ->\", calculate_sharpe(a2c_test_comp_env.portfolio_return_memory[agent]))\n",
        "  print(\"\\n\")"
      ],
      "metadata": {
        "id": "s85I6cxmizoV"
      },
      "execution_count": null,
      "outputs": []
    },
    {
      "cell_type": "markdown",
      "metadata": {
        "id": "TxcZ8zLUUPD0"
      },
      "source": [
        "### DDPG"
      ]
    },
    {
      "cell_type": "code",
      "execution_count": null,
      "metadata": {
        "id": "uNPuM5Z1jDKi"
      },
      "outputs": [],
      "source": [
        "# initial iter=0\n",
        "\n",
        "ddpg_test_comp_init = CompetitivePMEnv(df=test_mixed_df, algo_type=\"DDPG\", **env_kwargs)\n",
        "ddpg_test_comp_init.predict()"
      ]
    },
    {
      "cell_type": "code",
      "execution_count": null,
      "metadata": {
        "id": "LVnUzaxZjDKk"
      },
      "outputs": [],
      "source": [
        "# trained, load weights\n",
        "\n",
        "ddpg_test_comp_env = CompetitivePMEnv(df=test_mixed_df, algo_type=\"DDPG\", **env_kwargs)\n",
        "ddpg_test_comp_env.load_weights(num_it=training_timesteps)\n",
        "ddpg_test_comp_env.predict()"
      ]
    },
    {
      "cell_type": "code",
      "execution_count": null,
      "metadata": {
        "colab": {
          "base_uri": "https://localhost:8080/",
          "height": 545
        },
        "outputId": "2a62356b-ddcb-463c-a98e-b5017324227d",
        "id": "r3rXtBfjjDKk"
      },
      "outputs": [
        {
          "output_type": "display_data",
          "data": {
            "text/plain": [
              "<Figure size 432x288 with 1 Axes>"
            ],
            "image/png": "[encoded data removed]"
          },
          "metadata": {
            "needs_background": "light"
          }
        },
        {
          "output_type": "display_data",
          "data": {
            "text/plain": [
              "<Figure size 432x288 with 1 Axes>"
            ],
            "image/png": "[encoded data removed]"
          },
          "metadata": {
            "needs_background": "light"
          }
        }
      ],
      "source": [
        "# graphs\n",
        "\n",
        "plot_line_graph(ddpg_test_comp_init, range(0, ddpg_test_comp_init.end_day+1), ddpg_test_comp_init.cum_portfolio_return_memory, \"DDPG Initial Competitive CRR\")\n",
        "plot_line_graph(ddpg_test_comp_env, range(0, ddpg_test_comp_env.end_day+1), ddpg_test_comp_env.cum_portfolio_return_memory, \"DDPG Trained Competitive CRR\")"
      ]
    },
    {
      "cell_type": "code",
      "source": [
        "# value stats\n",
        "\n",
        "for agent in ddpg_test_comp_env.possible_agents:\n",
        "  print(agent)\n",
        "  print(\"Initial:\")\n",
        "  print(\"Max DRR ->\", np.max(ddpg_test_comp_init.portfolio_return_memory[agent]))\n",
        "  print(\"Min DRR ->\", np.min(ddpg_test_comp_init.portfolio_return_memory[agent]))\n",
        "  print(\"Sharpe Ratio ->\", calculate_sharpe(ddpg_test_comp_init.portfolio_return_memory[agent]))\n",
        "  print(\"\\nTrained:\")\n",
        "  print(\"Max DRR ->\", np.max(ddpg_test_comp_env.portfolio_return_memory[agent]))\n",
        "  print(\"Min DRR ->\", np.min(ddpg_test_comp_env.portfolio_return_memory[agent]))\n",
        "  print(\"Sharpe Ratio ->\", calculate_sharpe(ddpg_test_comp_env.portfolio_return_memory[agent]))\n",
        "  print(\"\\n\")"
      ],
      "metadata": {
        "colab": {
          "base_uri": "https://localhost:8080/"
        },
        "outputId": "0405ee72-5257-4957-aa20-92baea60cc7f",
        "id": "JsaL_IKEjDKl"
      },
      "execution_count": null,
      "outputs": [
        {
          "output_type": "stream",
          "name": "stdout",
          "text": [
            "DDPG1\n",
            "Initial:\n",
            "Max DRR -> 0.0793432631615174\n",
            "Min DRR -> -0.0721976246408955\n",
            "Sharpe Ratio -> 0.4497240734643986\n",
            "\n",
            "Trained:\n",
            "Max DRR -> 0.07827381917198462\n",
            "Min DRR -> -0.07068732699369212\n",
            "Sharpe Ratio -> 0.6190110504194907\n",
            "\n",
            "\n",
            "DDPG2\n",
            "Initial:\n",
            "Max DRR -> 0.07827381917198462\n",
            "Min DRR -> -0.07068732699369212\n",
            "Sharpe Ratio -> 0.6190110504194907\n",
            "\n",
            "Trained:\n",
            "Max DRR -> 0.08190343464356221\n",
            "Min DRR -> -0.07781781318065314\n",
            "Sharpe Ratio -> 0.5595801712165511\n",
            "\n",
            "\n",
            "DDPG3\n",
            "Initial:\n",
            "Max DRR -> 0.07827381917198462\n",
            "Min DRR -> -0.07068732699369212\n",
            "Sharpe Ratio -> 0.6190110504194907\n",
            "\n",
            "Trained:\n",
            "Max DRR -> 0.07827381917198462\n",
            "Min DRR -> -0.07068732699369212\n",
            "Sharpe Ratio -> 0.6190110504194907\n",
            "\n",
            "\n"
          ]
        }
      ]
    },
    {
      "cell_type": "markdown",
      "metadata": {
        "id": "AD_Y8OB9UPD1"
      },
      "source": [
        "### PPO"
      ]
    },
    {
      "cell_type": "code",
      "execution_count": null,
      "metadata": {
        "colab": {
          "base_uri": "https://localhost:8080/"
        },
        "id": "xq7f3v8RRDye",
        "outputId": "f58428ce-470f-4650-d992-1f3ebb3cf2d8"
      },
      "outputs": [
        {
          "output_type": "stream",
          "name": "stderr",
          "text": [
            "/usr/local/lib/python3.9/dist-packages/stable_baselines3/ppo/ppo.py:145: UserWarning: You have specified a mini-batch size of 64, but because the `RolloutBuffer` is of size `n_steps * n_envs = 251`, after every 3 untruncated mini-batches, there will be a truncated mini-batch of size 59\n",
            "We recommend using a `batch_size` that is a factor of `n_steps * n_envs`.\n",
            "Info: (n_steps=251 and n_envs=1)\n",
            "  warnings.warn(\n"
          ]
        }
      ],
      "source": [
        "# initial iter=0\n",
        "\n",
        "ppo_test_comp_init = CompetitivePMEnv(df=test_mixed_df, algo_type=\"PPO\", **env_kwargs)\n",
        "ppo_test_comp_init.predict()"
      ]
    },
    {
      "cell_type": "code",
      "execution_count": null,
      "metadata": {
        "id": "Y4mWRkkBRDyg"
      },
      "outputs": [],
      "source": [
        "# trained, load weights\n",
        "\n",
        "ppo_test_comp_env = CompetitivePMEnv(df=test_mixed_df, algo_type=\"PPO\", **env_kwargs)\n",
        "ppo_test_comp_env.load_weights(num_it=training_timesteps)\n",
        "ppo_test_comp_env.predict()"
      ]
    },
    {
      "cell_type": "code",
      "execution_count": null,
      "metadata": {
        "colab": {
          "base_uri": "https://localhost:8080/",
          "height": 545
        },
        "outputId": "6531b612-7c7a-43ce-e189-cb473008f8fb",
        "id": "PAWCchdDRDyh"
      },
      "outputs": [
        {
          "output_type": "display_data",
          "data": {
            "text/plain": [
              "<Figure size 432x288 with 1 Axes>"
            ],
            "image/png": "[encoded data removed]"
          },
          "metadata": {
            "needs_background": "light"
          }
        },
        {
          "output_type": "display_data",
          "data": {
            "text/plain": [
              "<Figure size 432x288 with 1 Axes>"
            ],
            "image/png": "[encoded data removed]"
          },
          "metadata": {
            "needs_background": "light"
          }
        }
      ],
      "source": [
        "# graphs\n",
        "\n",
        "plot_line_graph(ppo_test_comp_init, range(0, ppo_test_comp_init.end_day+1), ppo_test_comp_init.cum_portfolio_return_memory, \"PPO Initial Competitive CRR\")\n",
        "plot_line_graph(ppo_test_comp_env, range(0, ppo_test_comp_env.end_day+1), ppo_test_comp_env.cum_portfolio_return_memory, \"PPO Trained Competitive CRR\")"
      ]
    },
    {
      "cell_type": "code",
      "source": [
        "# value stats\n",
        "\n",
        "for agent in ppo_test_comp_env.possible_agents:\n",
        "  print(agent)\n",
        "  print(\"Initial:\")\n",
        "  print(\"Max DRR ->\", np.max(ppo_test_comp_init.portfolio_return_memory[agent]))\n",
        "  print(\"Min DRR ->\", np.min(ppo_test_comp_init.portfolio_return_memory[agent]))\n",
        "  print(\"Sharpe Ratio ->\", calculate_sharpe(ppo_test_comp_init.portfolio_return_memory[agent]))\n",
        "  print(\"\\nTrained:\")\n",
        "  print(\"Max DRR ->\", np.max(ppo_test_comp_env.portfolio_return_memory[agent]))\n",
        "  print(\"Min DRR ->\", np.min(ppo_test_comp_env.portfolio_return_memory[agent]))\n",
        "  print(\"Sharpe Ratio ->\", calculate_sharpe(ppo_test_comp_env.portfolio_return_memory[agent]))\n",
        "  print(\"\\n\")"
      ],
      "metadata": {
        "colab": {
          "base_uri": "https://localhost:8080/"
        },
        "outputId": "9dd49492-3011-4662-d11a-59c70ac8e60b",
        "id": "Z2FN1_thRDyi"
      },
      "execution_count": null,
      "outputs": [
        {
          "output_type": "stream",
          "name": "stdout",
          "text": [
            "PPO1\n",
            "Initial:\n",
            "Max DRR -> 0.07859856281817855\n",
            "Min DRR -> -0.07011293410591869\n",
            "Sharpe Ratio -> 1.2805763233943366\n",
            "\n",
            "Trained:\n",
            "Max DRR -> 0.07890696831323207\n",
            "Min DRR -> -0.0718908136646565\n",
            "Sharpe Ratio -> 0.49538849918316347\n",
            "\n",
            "\n",
            "PPO2\n",
            "Initial:\n",
            "Max DRR -> 0.07780558864764939\n",
            "Min DRR -> -0.0708956738490393\n",
            "Sharpe Ratio -> 0.6393047974006228\n",
            "\n",
            "Trained:\n",
            "Max DRR -> 0.08190343464356221\n",
            "Min DRR -> -0.07026535910128179\n",
            "Sharpe Ratio -> 0.6108881287398663\n",
            "\n",
            "\n",
            "PPO3\n",
            "Initial:\n",
            "Max DRR -> 0.07923961063180864\n",
            "Min DRR -> -0.0723168772447105\n",
            "Sharpe Ratio -> 0.8968468984448895\n",
            "\n",
            "Trained:\n",
            "Max DRR -> 0.07887161029237053\n",
            "Min DRR -> -0.07089356775140847\n",
            "Sharpe Ratio -> 0.5274030672672404\n",
            "\n",
            "\n"
          ]
        }
      ]
    },
    {
      "cell_type": "markdown",
      "source": [
        "### Random"
      ],
      "metadata": {
        "id": "oBj_1qXFUPD1"
      }
    },
    {
      "cell_type": "code",
      "source": [
        "# random agent act as a benchmark, doesn't learn\n",
        "# can predict immediately after initialisation\n",
        "\n",
        "rand_test_comp_env = CompetitivePMEnv(df=test_mixed_df, algo_type=\"Rand\", **env_kwargs)\n",
        "rand_test_comp_env.predict()"
      ],
      "metadata": {
        "id": "8MNjG_9TxOkw"
      },
      "execution_count": null,
      "outputs": []
    },
    {
      "cell_type": "code",
      "execution_count": null,
      "metadata": {
        "colab": {
          "base_uri": "https://localhost:8080/",
          "height": 281
        },
        "outputId": "d465470d-0d8f-4631-d841-caa259c4860b",
        "id": "iP7wtoVGxXym"
      },
      "outputs": [
        {
          "output_type": "display_data",
          "data": {
            "text/plain": [
              "<Figure size 432x288 with 1 Axes>"
            ],
            "image/png": "[encoded data removed]"
          },
          "metadata": {
            "needs_background": "light"
          }
        }
      ],
      "source": [
        "# graphs\n",
        "\n",
        "plot_line_graph(rand_test_comp_env, range(0, rand_test_comp_env.end_day+1), rand_test_comp_env.cum_portfolio_return_memory, \"Random Competitive CRR\")"
      ]
    },
    {
      "cell_type": "code",
      "source": [
        "# value stats\n",
        "\n",
        "for agent in rand_test_comp_env.possible_agents:\n",
        "  print(agent)\n",
        "  print(\"Max DRR ->\", np.max(rand_test_comp_env.portfolio_return_memory[agent]))\n",
        "  print(\"Min DRR ->\", np.min(rand_test_comp_env.portfolio_return_memory[agent]))\n",
        "  print(\"Sharpe Ratio ->\", calculate_sharpe(rand_test_comp_env.portfolio_return_memory[agent]))\n",
        "  print(\"\\n\")"
      ],
      "metadata": {
        "colab": {
          "base_uri": "https://localhost:8080/"
        },
        "outputId": "cf1eac85-5b5f-4d2c-e631-7eba5a0f9b8b",
        "id": "BLS_4OOZxXyn"
      },
      "execution_count": null,
      "outputs": [
        {
          "output_type": "stream",
          "name": "stdout",
          "text": [
            "Rand1\n",
            "Max DRR -> 0.0842256096621556\n",
            "Min DRR -> -0.09093542995109093\n",
            "Sharpe Ratio -> -1.1918097134439163\n",
            "\n",
            "\n",
            "Rand2\n",
            "Max DRR -> 0.08014968536401984\n",
            "Min DRR -> -0.08586530719418037\n",
            "Sharpe Ratio -> -1.2622447684173626\n",
            "\n",
            "\n",
            "Rand3\n",
            "Max DRR -> 0.0825502188650581\n",
            "Min DRR -> -0.0841865841941686\n",
            "Sharpe Ratio -> -1.1238423994191522\n",
            "\n",
            "\n"
          ]
        }
      ]
    },
    {
      "cell_type": "markdown",
      "source": [
        "## Cooperative"
      ],
      "metadata": {
        "id": "z0kPBSAPFxC0"
      }
    },
    {
      "cell_type": "markdown",
      "metadata": {
        "id": "fkmTD7y1F2bh"
      },
      "source": [
        "### A2C"
      ]
    },
    {
      "cell_type": "code",
      "execution_count": null,
      "metadata": {
        "id": "JtH6unt7kUQd"
      },
      "outputs": [],
      "source": [
        "# initial iter=0\n",
        "\n",
        "a2c_test_coop_init = CooperativePMEnv(df=test_mixed_df, algo_type=\"A2C\", **env_kwargs)\n",
        "a2c_test_coop_init.predict()"
      ]
    },
    {
      "cell_type": "code",
      "execution_count": null,
      "metadata": {
        "id": "m2-ToaQgkUQh"
      },
      "outputs": [],
      "source": [
        "# trained, load weights\n",
        "\n",
        "a2c_test_coop_env = CooperativePMEnv(df=test_mixed_df, algo_type=\"A2C\", **env_kwargs)\n",
        "a2c_test_coop_env.load_weights(num_it=training_timesteps)\n",
        "a2c_test_coop_env.predict()"
      ]
    },
    {
      "cell_type": "code",
      "execution_count": null,
      "metadata": {
        "id": "nTwY5h87kUQi"
      },
      "outputs": [],
      "source": [
        "# graphs\n",
        "\n",
        "plot_line_graph(a2c_test_coop_init, range(0, a2c_test_coop_init.end_day+1), a2c_test_coop_init.cum_portfolio_return_memory, \"A2C Initial Cooperative CRR\")\n",
        "plot_line_graph(a2c_test_coop_env, range(0, a2c_test_coop_env.end_day+1), a2c_test_coop_env.cum_portfolio_return_memory, \"A2C Trained Cooperative CRR\")"
      ]
    },
    {
      "cell_type": "code",
      "source": [
        "# value stats\n",
        "\n",
        "for agent in a2c_test_coop_init.possible_agents:\n",
        "  print(agent)\n",
        "  print(\"Initial:\")\n",
        "  print(\"Max DRR ->\", np.max(a2c_test_coop_init.portfolio_return_memory[agent]))\n",
        "  print(\"Min DRR ->\", np.min(a2c_test_coop_init.portfolio_return_memory[agent]))\n",
        "  print(\"Sharpe Ratio ->\", calculate_sharpe(a2c_test_coop_init.portfolio_return_memory[agent]))\n",
        "  print(\"\\nTrained:\")\n",
        "  print(\"Max DRR ->\", np.max(a2c_test_coop_env.portfolio_return_memory[agent]))\n",
        "  print(\"Min DRR ->\", np.min(a2c_test_coop_env.portfolio_return_memory[agent]))\n",
        "  print(\"Sharpe Ratio ->\", calculate_sharpe(a2c_test_coop_env.portfolio_return_memory[agent]))\n",
        "  print(\"\\n\")"
      ],
      "metadata": {
        "id": "vSV3ITvtkUQi"
      },
      "execution_count": null,
      "outputs": []
    },
    {
      "cell_type": "markdown",
      "metadata": {
        "id": "nt4gS6ouUPsY"
      },
      "source": [
        "### DDPG"
      ]
    },
    {
      "cell_type": "code",
      "execution_count": null,
      "metadata": {
        "id": "PeVaNcvbu1yw"
      },
      "outputs": [],
      "source": [
        "# initial iter=0\n",
        "\n",
        "ddpg_test_coop_init = CooperativePMEnv(df=test_mixed_df, algo_type=\"DDPG\", **env_kwargs)\n",
        "ddpg_test_coop_init.predict()"
      ]
    },
    {
      "cell_type": "code",
      "execution_count": null,
      "metadata": {
        "id": "ION_yTaFu1yy"
      },
      "outputs": [],
      "source": [
        "# trained, load weights\n",
        "\n",
        "ddpg_test_coop_env = CooperativePMEnv(df=test_mixed_df, algo_type=\"DDPG\", **env_kwargs)\n",
        "ddpg_test_coop_env.load_weights(num_it=training_timesteps)\n",
        "ddpg_test_coop_env.predict()"
      ]
    },
    {
      "cell_type": "code",
      "execution_count": null,
      "metadata": {
        "id": "kQybVxb2u1yz"
      },
      "outputs": [],
      "source": [
        "# graphs\n",
        "\n",
        "plot_line_graph(ddpg_test_coop_init, range(0, ddpg_test_coop_init.end_day+1), ddpg_test_coop_init.cum_portfolio_return_memory, \"DDPG Initial Cooperative CRR\")\n",
        "plot_line_graph(ddpg_test_coop_env, range(0, ddpg_test_coop_env.end_day+1), ddpg_test_coop_env.cum_portfolio_return_memory, \"DDPG Trained Cooperative CRR\")"
      ]
    },
    {
      "cell_type": "code",
      "source": [
        "# value stats\n",
        "\n",
        "for agent in ddpg_test_coop_init.possible_agents:\n",
        "  print(agent)\n",
        "  print(\"Initial:\")\n",
        "  print(\"Max DRR ->\", np.max(ddpg_test_coop_init.portfolio_return_memory[agent]))\n",
        "  print(\"Min DRR ->\", np.min(ddpg_test_coop_init.portfolio_return_memory[agent]))\n",
        "  print(\"Sharpe Ratio ->\", calculate_sharpe(ddpg_test_coop_init.portfolio_return_memory[agent]))\n",
        "  print(\"\\nTrained:\")\n",
        "  print(\"Max DRR ->\", np.max(ddpg_test_coop_env.portfolio_return_memory[agent]))\n",
        "  print(\"Min DRR ->\", np.min(ddpg_test_coop_env.portfolio_return_memory[agent]))\n",
        "  print(\"Sharpe Ratio ->\", calculate_sharpe(ddpg_test_coop_env.portfolio_return_memory[agent]))\n",
        "  print(\"\\n\")"
      ],
      "metadata": {
        "id": "trmeSilvu1y0"
      },
      "execution_count": null,
      "outputs": []
    },
    {
      "cell_type": "markdown",
      "source": [
        "### PPO"
      ],
      "metadata": {
        "id": "RDS840YhQ-AH"
      }
    },
    {
      "cell_type": "code",
      "execution_count": null,
      "metadata": {
        "id": "u-JrOjO0u4a8"
      },
      "outputs": [],
      "source": [
        "# initial iter=0\n",
        "\n",
        "ppo_test_coop_init = CooperativePMEnv(df=test_mixed_df, algo_type=\"PPO\", **env_kwargs)\n",
        "ppo_test_coop_init.predict()"
      ]
    },
    {
      "cell_type": "code",
      "execution_count": null,
      "metadata": {
        "id": "Ta7MqxRPu4a-"
      },
      "outputs": [],
      "source": [
        "# trained, load weights\n",
        "\n",
        "ppo_test_coop_env = CooperativePMEnv(df=test_mixed_df, algo_type=\"PPO\", **env_kwargs)\n",
        "ppo_test_coop_env.load_weights(num_it=training_timesteps)\n",
        "ppo_test_coop_env.predict()"
      ]
    },
    {
      "cell_type": "code",
      "execution_count": null,
      "metadata": {
        "id": "cqjFCF07u4a-"
      },
      "outputs": [],
      "source": [
        "# graphs\n",
        "\n",
        "plot_line_graph(ppo_test_coop_init, range(0, ppo_test_coop_init.end_day+1), ppo_test_coop_init.cum_portfolio_return_memory, \"PPO Initial Cooperative CRR\")\n",
        "plot_line_graph(ppo_test_coop_env, range(0, ppo_test_coop_env.end_day+1), ppo_test_coop_env.cum_portfolio_return_memory, \"PPO Trained Cooperative CRR\")"
      ]
    },
    {
      "cell_type": "code",
      "source": [
        "# value stats\n",
        "\n",
        "for agent in ppo_test_coop_init.possible_agents:\n",
        "  print(agent)\n",
        "  print(\"Initial:\")\n",
        "  print(\"Max DRR ->\", np.max(ppo_test_coop_init.portfolio_return_memory[agent]))\n",
        "  print(\"Min DRR ->\", np.min(ppo_test_coop_init.portfolio_return_memory[agent]))\n",
        "  print(\"Sharpe Ratio ->\", calculate_sharpe(ppo_test_coop_init.portfolio_return_memory[agent]))\n",
        "  print(\"\\nTrained:\")\n",
        "  print(\"Max DRR ->\", np.max(ppo_test_coop_env.portfolio_return_memory[agent]))\n",
        "  print(\"Min DRR ->\", np.min(ppo_test_coop_env.portfolio_return_memory[agent]))\n",
        "  print(\"Sharpe Ratio ->\", calculate_sharpe(ppo_test_coop_env.portfolio_return_memory[agent]))\n",
        "  print(\"\\n\")"
      ],
      "metadata": {
        "id": "GQ-WDgq_u4a_"
      },
      "execution_count": null,
      "outputs": []
    },
    {
      "cell_type": "markdown",
      "source": [
        "### Random"
      ],
      "metadata": {
        "id": "bUI8XPu5UPsY"
      }
    },
    {
      "cell_type": "code",
      "source": [
        "# random agent act as a benchmark, doesn't learn\n",
        "# can predict immediately after initialisation\n",
        "\n",
        "rand_test_coop_env = CompetitivePMEnv(df=test_mixed_df, algo_type=\"Rand\", **env_kwargs)\n",
        "rand_test_coop_env.predict()"
      ],
      "metadata": {
        "id": "rDPW14LlzYlt"
      },
      "execution_count": null,
      "outputs": []
    },
    {
      "cell_type": "code",
      "execution_count": null,
      "metadata": {
        "id": "P-DC55FbzYlv"
      },
      "outputs": [],
      "source": [
        "# graphs\n",
        "\n",
        "plot_line_graph(rand_test_coop_env, range(0, rand_test_coop_env.end_day+1), rand_test_coop_env.cum_portfolio_return_memory, \"Random Competitive CRR\")"
      ]
    },
    {
      "cell_type": "code",
      "source": [
        "# value stats\n",
        "\n",
        "for agent in rand_test_coop_env.possible_agents:\n",
        "  print(agent)\n",
        "  print(\"Max DRR ->\", np.max(rand_test_coop_env.portfolio_return_memory[agent]))\n",
        "  print(\"Min DRR ->\", np.min(rand_test_coop_env.portfolio_return_memory[agent]))\n",
        "  print(\"Sharpe Ratio ->\", calculate_sharpe(rand_test_coop_env.portfolio_return_memory[agent]))\n",
        "  print(\"\\n\")"
      ],
      "metadata": {
        "id": "VBcS7DcezYlw"
      },
      "execution_count": null,
      "outputs": []
    },
    {
      "cell_type": "markdown",
      "metadata": {
        "id": "_VckgtAk34m6"
      },
      "source": [
        "# Benchmark\n",
        "After the strategies have been construct, we are going to use buy and hold and constance_rebalancing to compare the efficiency of the algorithm.\n",
        "We are using DRR, CRR, Varience, and Sharpe ratio to measure the performance of the benchmark algo."
      ]
    },
    {
      "cell_type": "markdown",
      "metadata": {
        "id": "ZgObSN8B34m7"
      },
      "source": [
        "### DRR\n",
        "The Daily rate of return can be computed by\n",
        "\n",
        "$$ DRR = { Price_{today} - Price_{prevday}} $$"
      ]
    },
    {
      "cell_type": "code",
      "execution_count": null,
      "metadata": {
        "id": "jbrgNA1I34m7"
      },
      "outputs": [],
      "source": [
        "# use DRR column\n",
        "def portfolio_daily_rate_of_return(portfolio_df, initial_amount):\n",
        "    if not ('DRR' in portfolio_df):\n",
        "        portfolio_df['DRR'] = np.nan\n",
        "    portfolio_df['DRR'] = ( portfolio_df['Sum'] - np.roll(portfolio_df['Sum'], shift=1))/portfolio_df['Sum']\n",
        "    portfolio_df.loc[portfolio_df.index[0], 'DRR']= (portfolio_df.loc[portfolio_df.index[0], 'Sum'] -initial_amount) /initial_amount\n",
        "    return portfolio_df \n"
      ]
    },
    {
      "cell_type": "markdown",
      "metadata": {
        "id": "VgCFKAcJ34m7"
      },
      "source": [
        "### CRR\n",
        "The Cumulative rate or the sum of the DRR can be computed by\n",
        "\n",
        "$$ CRR = { Price_{today} - Price_{init}} $$"
      ]
    },
    {
      "cell_type": "code",
      "execution_count": null,
      "metadata": {
        "id": "X4gv7HB-34m7"
      },
      "outputs": [],
      "source": [
        "# use CRR column\n",
        "def portfolio_cumulative_rate_of_return(portfolio_df, initial_amount):\n",
        "    if not ('DRR' in portfolio_df):\n",
        "        portfolio_df = portfolio_daily_rate_of_return(portfolio_df, initial_amount)\n",
        "    if not ('CRR' in portfolio_df):\n",
        "        portfolio_df['CRR'] = np.nan\n",
        "    \n",
        "    portfolio_df['CRR'] = ( portfolio_df['Sum'] - initial_amount)/initial_amount\n",
        "\n",
        "    return portfolio_df "
      ]
    },
    {
      "cell_type": "code",
      "execution_count": null,
      "metadata": {
        "id": "HgFXVo-Q34m7"
      },
      "outputs": [],
      "source": [
        "def portfolio_get_cumulative_rate_of_return(portfolio_df, index=-1):\n",
        "    return portfolio_df.loc[portfolio_df.index[index], 'CRR']"
      ]
    },
    {
      "cell_type": "markdown",
      "metadata": {
        "id": "LK3m7rUW34m7"
      },
      "source": [
        "### Variance\n",
        "The Variance can be computed by using the following equation\n",
        "\n",
        "$$ Var = { \\Sigma( DRR - E_{DRR} )^2 \\over Time} $$"
      ]
    },
    {
      "cell_type": "code",
      "execution_count": null,
      "metadata": {
        "id": "IrhGVYAX34m7"
      },
      "outputs": [],
      "source": [
        "def portfolio_varience(portfolio_df):\n",
        "    drr_sum = portfolio_df.loc[portfolio_df.index[-1], 'CRR']/portfolio_df.__len__()\n",
        "    diff_sq = np.square(portfolio_df['DRR'] - drr_sum)\n",
        "    var = diff_sq.sum()/portfolio_df.__len__()\n",
        "    return var"
      ]
    },
    {
      "cell_type": "markdown",
      "metadata": {
        "id": "f1cJKNiv34m8"
      },
      "source": [
        "### Sharpe ratio\n",
        "The ratio can be computed by using the following equation\n",
        "\n",
        "$$ Sharpe = { R_{portfolio} - R_{riskfree} \\over \\sigma_{portfolio}} $$"
      ]
    },
    {
      "cell_type": "code",
      "execution_count": null,
      "metadata": {
        "id": "jxA9EUEG34m8"
      },
      "outputs": [],
      "source": [
        "# compute the portfolio sharpe ratio\n",
        "def portfolio_sharpe_ratio(portfolio_df, port_sd, riskfree=0.0151, at_index=-1):\n",
        "    year_count = portfolio_df.__len__()/252\n",
        "    asset_return = portfolio_df.loc[portfolio_df.index[at_index], 'CRR']/year_count\n",
        "    return (asset_return - riskfree)/port_sd"
      ]
    },
    {
      "cell_type": "markdown",
      "metadata": {
        "id": "xbLcVVXd34m8"
      },
      "source": [
        "### Define a class for running rebalancing algo"
      ]
    },
    {
      "cell_type": "code",
      "execution_count": null,
      "metadata": {
        "id": "q3riguQB34m8"
      },
      "outputs": [],
      "source": [
        "class ConstanceBalancingOnTime:\n",
        "    def __init__(self, \n",
        "                df,\n",
        "                holding_ratio,\n",
        "                rebalance_time,\n",
        "                initial_amount,\n",
        "                transaction_cost_pct,\n",
        "                lookback=252,\n",
        "                day = 0):\n",
        "        self.df = df\n",
        "        self.rebalance_time = rebalance_time\n",
        "        self.holding_ratio = np.array(holding_ratio)\n",
        "        self.initial_amount = initial_amount\n",
        "        self.transaction_cost_pct = transaction_cost_pct\n",
        "        self.lookback = lookback\n",
        "        self.day = day\n",
        "\n",
        "        self.ticker_list = df[\"tic\"].unique()\n",
        "        self.stock_count = len(self.ticker_list)\n",
        "        # the first one is cash on hand followed by the stock in the tickers\n",
        "        self.asset_amount = self.holding_ratio * initial_amount\n",
        "\n",
        "        self.portfolio_memory = self._create_initial_memory()\n",
        "        self._write_memory_at_index(0)\n",
        "\n",
        "        #for keeping matric\n",
        "        self.metric = {}\n",
        "\n",
        "        \n",
        "\n",
        "    def step(self):\n",
        "        # incase \n",
        "        self.day += 1\n",
        "        # if (self.day == 1):\n",
        "        #     current_value = self.initial_amount / (self.transaction_cost_pct * self.holding_ratio[1:].sum() + self.initial_amount)\n",
        "        #     self.asset_amount = current_value * self.holding_ratio\n",
        "        #     return\n",
        "        \n",
        "        for index in range(self.stock_count):\n",
        "            try:\n",
        "                self.asset_amount[index+1] *= self._update_assetprice_by_ratio(int(self.day), self.ticker_list[index])\n",
        "            except:\n",
        "                print(\"error at day\",self.day, index)\n",
        "        \n",
        "        # rebalancing\n",
        "        if (self.day % self.rebalance_time == 0):\n",
        "\n",
        "            after_asset_amount = np.array([])\n",
        "            \n",
        "            current_asset_value = self.asset_amount.sum()\n",
        "            current_asset_ratio = self.asset_amount/current_asset_value\n",
        "\n",
        "            #check the sign of asset allowcation\n",
        "            asset_adapt_sign = self.holding_ratio >= current_asset_ratio\n",
        "                \n",
        "            asset_matrix = np.array([np.append(self.holding_ratio.copy(), 0)])\n",
        "            \n",
        "            for i in range(self.stock_count+1): \n",
        "                # the amount of add in that we will add into the asset line\n",
        "                add_in_asset_line = 1\n",
        "                if ((self.holding_ratio == current_asset_ratio)[i] ):\n",
        "                    pass\n",
        "                elif (asset_adapt_sign[i] ):\n",
        "                    add_in_asset_line += self.transaction_cost_pct\n",
        "                else:\n",
        "                    add_in_asset_line -= self.transaction_cost_pct\n",
        "                # print(add_in_asset_line)\n",
        "                current_asset_line = np.zeros(self.stock_count+2)\n",
        "                current_asset_line[i] = add_in_asset_line\n",
        "                current_asset_line[-1] = 1\n",
        "                # print(asset_matrix.shape, current_asset_line.shape)\n",
        "                # print(asset_matrix, current_asset_line)\n",
        "                asset_matrix = np.append(asset_matrix.copy(), np.array([current_asset_line.copy()]), axis=0)\n",
        "            asset_matrix = asset_matrix.T\n",
        "            \n",
        "            modify_amount = np.linalg.solve(asset_matrix, np.append(self.asset_amount, 0))[1:]\n",
        "            self.asset_amount = self.asset_amount - modify_amount\n",
        "        \n",
        "        # write the allocation to the memory df\n",
        "        self._write_memory_at_index(self.day)\n",
        "\n",
        "    def run(self):\n",
        "        time_range = self.df.__len__() / self.stock_count\n",
        "        for i in range(int(time_range)-1):\n",
        "            self.step()\n",
        "\n",
        "    def reset(self):\n",
        "        self.day = 0\n",
        "        self.asset_amount = self.holding_ratio * self.initial_amount\n",
        "\n",
        "        self.portfolio_memory = self._create_initial_memory()\n",
        "        self._write_memory_at_index(0)\n",
        "\n",
        "    def get_asset_amount(self):\n",
        "        return self.asset_amount.sum()\n",
        "    \n",
        "    def add_return(self, method):\n",
        "        self.portfolio_memory = method(self.portfolio_memory, self.initial_amount)\n",
        "\n",
        "    def add_metric(self, new_matric, new_matric_name, **kwargs):\n",
        "        matric_res = new_matric(self.portfolio_memory, **kwargs)\n",
        "        self.metric.update({new_matric_name: matric_res}) \n",
        "\n",
        "    def _create_initial_memory(self):\n",
        "        col = np.append(np.array(['Cash']), self.ticker_list)\n",
        "        col = np.append(col, np.array(['Sum']))\n",
        "        initial_memory = pd.DataFrame(index=self.df.index.unique(), columns=col)\n",
        "        \n",
        "        return initial_memory\n",
        "    \n",
        "    def _update_assetprice_by_ratio(self, time_index: int, ticker: str):\n",
        "        return self.df[self.df['tic'] == ticker].iloc[time_index]['Close']/self.df[self.df['tic'] == ticker].iloc[time_index-1]['Close']\n",
        "    \n",
        "    def _write_memory_at_index(self, index: int):\n",
        "        self.portfolio_memory.iloc[index]['Cash'] = self.asset_amount[0]\n",
        "        \n",
        "        for stock_index in range(self.stock_count):\n",
        "            current_ticker = self.ticker_list[stock_index]\n",
        "            self.portfolio_memory.iloc[index][current_ticker] = self.asset_amount[stock_index+1]\n",
        "        self.portfolio_memory.iloc[index]['Sum'] = self.asset_amount.sum()\n",
        "    \n"
      ]
    },
    {
      "cell_type": "code",
      "execution_count": null,
      "metadata": {
        "id": "Ae0NeHHP34m8",
        "outputId": "222b1602-cfc3-4580-db3a-11a9df895fca"
      },
      "outputs": [
        {
          "data": {
            "text/plain": [
              "array(['AAPL', 'CAAS'], dtype=object)"
            ]
          },
          "execution_count": 28,
          "metadata": {},
          "output_type": "execute_result"
        }
      ],
      "source": [
        "mixed_df[\"tic\"].unique()"
      ]
    },
    {
      "cell_type": "code",
      "execution_count": null,
      "metadata": {
        "id": "pv9P70n034m9"
      },
      "outputs": [],
      "source": [
        "#df for testing\n",
        "test_df = mixed_df.copy().set_index('Date')\n",
        "risk_free_2022 = 0.025"
      ]
    },
    {
      "cell_type": "markdown",
      "metadata": {
        "id": "itex_ODa34m9"
      },
      "source": [
        "#### Single stock"
      ]
    },
    {
      "cell_type": "code",
      "execution_count": null,
      "metadata": {
        "id": "-l2KAB8134m9"
      },
      "outputs": [],
      "source": [
        "env_kwargs = {\n",
        "  \"holding_ratio\": [0, 0.5], \n",
        "  \"rebalance_time\": 60,\n",
        "  \"initial_amount\": 1000000, \n",
        "  \"transaction_cost_pct\": 0.001\n",
        "}\n",
        "\n",
        "cr = ConstanceBalancingOnTime(df = new_aapl_df.copy().set_index('Date'), **env_kwargs)\n"
      ]
    },
    {
      "cell_type": "code",
      "execution_count": null,
      "metadata": {
        "id": "SQm6U83234m9"
      },
      "outputs": [],
      "source": [
        "cr.reset()\n",
        "cr.run()"
      ]
    },
    {
      "cell_type": "code",
      "execution_count": null,
      "metadata": {
        "id": "KDGKkoyd34m9"
      },
      "outputs": [],
      "source": [
        "cr.add_return(portfolio_daily_rate_of_return)\n",
        "cr.add_return(portfolio_cumulative_rate_of_return)\n",
        "\n",
        "cr.add_metric(portfolio_varience, \"varience\")\n",
        "cr.add_metric(portfolio_get_cumulative_rate_of_return, \"crr\")\n",
        "env_kwargs = {\n",
        "  \"port_sd\": np.sqrt(cr.metric['varience']), \n",
        "  \"riskfree\": risk_free_2022,\n",
        "}\n",
        "\n",
        "cr.add_metric(portfolio_sharpe_ratio, \"sharpe\", **env_kwargs)\n"
      ]
    },
    {
      "cell_type": "code",
      "execution_count": null,
      "metadata": {
        "id": "Srm2aTXB34m9",
        "outputId": "aebb398e-7cf4-4892-a6d1-626a53e0e8ed"
      },
      "outputs": [
        {
          "name": "stdout",
          "output_type": "stream",
          "text": [
            "rebalance time 60\n",
            "initial amount 1000000\n",
            "tickers ['AAPL']\n",
            "stock count 1\n"
          ]
        },
        {
          "data": {
            "text/plain": [
              "{'varience': 0.0007138874448694907,\n",
              " 'crr': 0.8275545459579413,\n",
              " 'sharpe': 6.815237131372679}"
            ]
          },
          "execution_count": 33,
          "metadata": {},
          "output_type": "execute_result"
        }
      ],
      "source": [
        "print(\"rebalance time\", cr.rebalance_time)\n",
        "print(\"initial amount\", cr.initial_amount)\n",
        "print(\"tickers\", cr.ticker_list)\n",
        "print(\"stock count\", cr.stock_count)\n",
        "\n",
        "cr.metric"
      ]
    },
    {
      "cell_type": "markdown",
      "metadata": {
        "id": "PtlIsjmk34m9"
      },
      "source": [
        "#### Constance rebalance"
      ]
    },
    {
      "cell_type": "code",
      "execution_count": null,
      "metadata": {
        "id": "tWidVA9p34m9"
      },
      "outputs": [],
      "source": [
        "env_kwargs = {\n",
        "  \"holding_ratio\": [0,0.5, 0.5], \n",
        "  \"rebalance_time\": 60,\n",
        "  \"initial_amount\": 1000000, \n",
        "  \"transaction_cost_pct\": 0.001\n",
        "}\n",
        "\n",
        "cr = ConstanceBalancingOnTime(df = test_df, **env_kwargs)\n"
      ]
    },
    {
      "cell_type": "code",
      "execution_count": null,
      "metadata": {
        "id": "ZUtP9_sv34m9"
      },
      "outputs": [],
      "source": [
        "cr.reset()\n",
        "cr.run()"
      ]
    },
    {
      "cell_type": "code",
      "execution_count": null,
      "metadata": {
        "id": "wCU4cZoQ34m-"
      },
      "outputs": [],
      "source": [
        "cr.add_return(portfolio_daily_rate_of_return)\n",
        "cr.add_return(portfolio_cumulative_rate_of_return)\n",
        "\n",
        "cr.add_metric(portfolio_varience, \"varience\")\n",
        "cr.add_metric(portfolio_get_cumulative_rate_of_return, \"crr\")\n",
        "env_kwargs = {\n",
        "  \"port_sd\": np.sqrt(cr.metric['varience']), \n",
        "  \"riskfree\": risk_free_2022,\n",
        "}\n",
        "\n",
        "cr.add_metric(portfolio_sharpe_ratio, \"sharpe\", **env_kwargs)\n"
      ]
    },
    {
      "cell_type": "code",
      "execution_count": null,
      "metadata": {
        "id": "M-9KK8vG34m-",
        "outputId": "14739b35-15b1-493e-df3c-04aa7757d659"
      },
      "outputs": [
        {
          "name": "stdout",
          "output_type": "stream",
          "text": [
            "rebalance time 60\n",
            "initial amount 1000000\n",
            "tickers ['AAPL' 'CAAS']\n",
            "stock count 2\n"
          ]
        },
        {
          "data": {
            "text/plain": [
              "{'varience': 0.0010014236330381694,\n",
              " 'crr': 2.60775359627078,\n",
              " 'sharpe': 19.831894080392228}"
            ]
          },
          "execution_count": 37,
          "metadata": {},
          "output_type": "execute_result"
        }
      ],
      "source": [
        "print(\"rebalance time\", cr.rebalance_time)\n",
        "print(\"initial amount\", cr.initial_amount)\n",
        "print(\"tickers\", cr.ticker_list)\n",
        "print(\"stock count\", cr.stock_count)\n",
        "\n",
        "cr.metric"
      ]
    },
    {
      "cell_type": "markdown",
      "metadata": {
        "id": "gkYZTENz34m-"
      },
      "source": [
        "### Buy and Hold"
      ]
    },
    {
      "cell_type": "code",
      "execution_count": null,
      "metadata": {
        "id": "GSpBizhr34m-"
      },
      "outputs": [],
      "source": [
        "## let the time to be very high so the portfolio will not rebalance\n",
        "env_kwargs = {\n",
        "  \"holding_ratio\": [0,0.5,0.5], \n",
        "  \"rebalance_time\": 9999999999,\n",
        "  \"initial_amount\": 1000000, \n",
        "  \"transaction_cost_pct\": 0.001\n",
        "}\n",
        "\n",
        "buyhold = ConstanceBalancingOnTime(df = test_df, **env_kwargs)\n"
      ]
    },
    {
      "cell_type": "code",
      "execution_count": null,
      "metadata": {
        "id": "UwAZIFZW34m-"
      },
      "outputs": [],
      "source": [
        "buyhold.reset()\n",
        "buyhold.run()"
      ]
    },
    {
      "cell_type": "code",
      "execution_count": null,
      "metadata": {
        "id": "c-walY1i34m-"
      },
      "outputs": [],
      "source": [
        "buyhold.add_return(portfolio_daily_rate_of_return)\n",
        "buyhold.add_return(portfolio_cumulative_rate_of_return)\n",
        "buyhold.add_metric(portfolio_varience, \"varience\")\n",
        "buyhold.add_metric(portfolio_get_cumulative_rate_of_return, \"crr\")\n",
        "env_kwargs = {\n",
        "  \"port_sd\": np.sqrt(cr.metric['varience']), \n",
        "  \"riskfree\": risk_free_2022,\n",
        "}\n",
        "\n",
        "buyhold.add_metric(portfolio_sharpe_ratio, \"sharpe\", **env_kwargs)"
      ]
    },
    {
      "cell_type": "code",
      "execution_count": null,
      "metadata": {
        "id": "doiMZy_Q34m-",
        "outputId": "07251c33-0159-47f3-c17c-729fa3f311c3"
      },
      "outputs": [
        {
          "name": "stdout",
          "output_type": "stream",
          "text": [
            "rebalance time 9999999999\n",
            "initial amount 1000000\n",
            "tickers ['AAPL' 'CAAS']\n",
            "stock count 2\n"
          ]
        },
        {
          "data": {
            "text/plain": [
              "{'varience': 0.0006593813320346426,\n",
              " 'crr': 1.9875545841049216,\n",
              " 'sharpe': 14.927411207558738}"
            ]
          },
          "execution_count": 41,
          "metadata": {},
          "output_type": "execute_result"
        }
      ],
      "source": [
        "print(\"rebalance time\", buyhold.rebalance_time)\n",
        "print(\"initial amount\", buyhold.initial_amount)\n",
        "print(\"tickers\", buyhold.ticker_list)\n",
        "print(\"stock count\", buyhold.stock_count)\n",
        "\n",
        "buyhold.metric\n"
      ]
    }
  ],
  "metadata": {
    "colab": {
      "provenance": [],
      "toc_visible": true
    },
    "kernelspec": {
      "display_name": "Python 3",
      "name": "python3"
    },
    "language_info": {
      "codemirror_mode": {
        "name": "ipython",
        "version": 3
      },
      "file_extension": ".py",
      "mimetype": "text/x-python",
      "name": "python",
      "nbconvert_exporter": "python",
      "pygments_lexer": "ipython3",
      "version": "3.10.9"
    }
  },
  "nbformat": 4,
  "nbformat_minor": 0
}